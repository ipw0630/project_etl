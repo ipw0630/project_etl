{
  "nbformat": 4,
  "nbformat_minor": 0,
  "metadata": {
    "colab": {
      "provenance": [],
      "authorship_tag": "ABX9TyPzvtJjLSJUpjm9IX/JqMCv",
      "include_colab_link": true
    },
    "kernelspec": {
      "name": "python3",
      "display_name": "Python 3"
    },
    "language_info": {
      "name": "python"
    }
  },
  "cells": [
    {
      "cell_type": "markdown",
      "metadata": {
        "id": "view-in-github",
        "colab_type": "text"
      },
      "source": [
        "<a href=\"https://colab.research.google.com/github/ipw0630/project_etl/blob/main/EXERCISE_WEEK_14.ipynb\" target=\"_parent\"><img src=\"https://colab.research.google.com/assets/colab-badge.svg\" alt=\"Open In Colab\"/></a>"
      ]
    },
    {
      "cell_type": "markdown",
      "source": [
        "# Install PySpark"
      ],
      "metadata": {
        "id": "WfDl7ERPp_QO"
      }
    },
    {
      "cell_type": "code",
      "execution_count": 1,
      "metadata": {
        "colab": {
          "base_uri": "https://localhost:8080/"
        },
        "id": "t9LRVkZ6pvBL",
        "outputId": "2321a572-4b96-4134-a659-4f80b1e52aa4"
      },
      "outputs": [
        {
          "output_type": "stream",
          "name": "stdout",
          "text": [
            "Requirement already satisfied: pyspark in /usr/local/lib/python3.10/dist-packages (3.5.1)\n",
            "Requirement already satisfied: py4j==0.10.9.7 in /usr/local/lib/python3.10/dist-packages (from pyspark) (0.10.9.7)\n"
          ]
        }
      ],
      "source": [
        "! pip install pyspark"
      ]
    },
    {
      "cell_type": "code",
      "source": [
        "! wget https://raw.githubusercontent.com/databricks/Spark-The-Definitive-Guide/master/data/retail-data/all/online-retail-dataset.csv"
      ],
      "metadata": {
        "colab": {
          "base_uri": "https://localhost:8080/"
        },
        "id": "KK_uVwRUrNaL",
        "outputId": "c9541c4d-9a3b-4d8a-b069-78344a4e7033"
      },
      "execution_count": 2,
      "outputs": [
        {
          "output_type": "stream",
          "name": "stdout",
          "text": [
            "--2024-05-12 07:30:49--  https://raw.githubusercontent.com/databricks/Spark-The-Definitive-Guide/master/data/retail-data/all/online-retail-dataset.csv\n",
            "Resolving raw.githubusercontent.com (raw.githubusercontent.com)... 185.199.111.133, 185.199.109.133, 185.199.110.133, ...\n",
            "Connecting to raw.githubusercontent.com (raw.githubusercontent.com)|185.199.111.133|:443... connected.\n",
            "HTTP request sent, awaiting response... 200 OK\n",
            "Length: 45038760 (43M) [text/plain]\n",
            "Saving to: ‘online-retail-dataset.csv.1’\n",
            "\n",
            "online-retail-datas 100%[===================>]  42.95M   174MB/s    in 0.2s    \n",
            "\n",
            "2024-05-12 07:30:50 (174 MB/s) - ‘online-retail-dataset.csv.1’ saved [45038760/45038760]\n",
            "\n"
          ]
        }
      ]
    },
    {
      "cell_type": "code",
      "source": [
        "from pyspark.sql import SparkSession"
      ],
      "metadata": {
        "id": "VFUeVKaqrRqY"
      },
      "execution_count": 3,
      "outputs": []
    },
    {
      "cell_type": "code",
      "source": [
        "spark_session = SparkSession.builder.appName('dibimbing').master('local').getOrCreate()"
      ],
      "metadata": {
        "id": "IjHQ6cmLrUDs"
      },
      "execution_count": 4,
      "outputs": []
    },
    {
      "cell_type": "markdown",
      "source": [
        "# Configuration"
      ],
      "metadata": {
        "id": "C3OdA1cqrXN_"
      }
    },
    {
      "cell_type": "code",
      "source": [
        "from pyspark.sql.types import *\n",
        "schema = StructType([\n",
        "    StructField('invoice_no', IntegerType()),\n",
        "    StructField('stock_code', StringType()),\n",
        "    StructField('description', StringType()),\n",
        "    StructField('quantity', IntegerType()),\n",
        "    StructField('invoice_timestamp', StringType()),\n",
        "    StructField('unit_price', DoubleType()),\n",
        "    StructField('customer_id', IntegerType()),\n",
        "    StructField('country_name', StringType()),\n",
        "])\n",
        "df = spark_session.read.csv('/content/online-retail-dataset.csv', header=True, schema=schema)\n",
        "df.show(5)"
      ],
      "metadata": {
        "colab": {
          "base_uri": "https://localhost:8080/"
        },
        "id": "0-pdeqD8rVbF",
        "outputId": "e8a26933-efc8-483f-960e-a2bb8aafe600"
      },
      "execution_count": 5,
      "outputs": [
        {
          "output_type": "stream",
          "name": "stdout",
          "text": [
            "+----------+----------+--------------------+--------+-----------------+----------+-----------+--------------+\n",
            "|invoice_no|stock_code|         description|quantity|invoice_timestamp|unit_price|customer_id|  country_name|\n",
            "+----------+----------+--------------------+--------+-----------------+----------+-----------+--------------+\n",
            "|    536365|    85123A|WHITE HANGING HEA...|       6|   12/1/2010 8:26|      2.55|      17850|United Kingdom|\n",
            "|    536365|     71053| WHITE METAL LANTERN|       6|   12/1/2010 8:26|      3.39|      17850|United Kingdom|\n",
            "|    536365|    84406B|CREAM CUPID HEART...|       8|   12/1/2010 8:26|      2.75|      17850|United Kingdom|\n",
            "|    536365|    84029G|KNITTED UNION FLA...|       6|   12/1/2010 8:26|      3.39|      17850|United Kingdom|\n",
            "|    536365|    84029E|RED WOOLLY HOTTIE...|       6|   12/1/2010 8:26|      3.39|      17850|United Kingdom|\n",
            "+----------+----------+--------------------+--------+-----------------+----------+-----------+--------------+\n",
            "only showing top 5 rows\n",
            "\n"
          ]
        }
      ]
    },
    {
      "cell_type": "markdown",
      "source": [
        "# Dataset Cleaning & Transformation"
      ],
      "metadata": {
        "id": "CJYHWkvlrjqg"
      }
    },
    {
      "cell_type": "code",
      "source": [
        "import pyspark.sql.functions as F\n",
        "df = df.withColumn('invoice_timestamp',F.to_timestamp('invoice_timestamp', format='M/d/yyyy H:m'))\n",
        "df.show(5)"
      ],
      "metadata": {
        "colab": {
          "base_uri": "https://localhost:8080/"
        },
        "id": "VWdhT5KXraik",
        "outputId": "993b11f1-9f95-4022-d728-d2b345ce4a73"
      },
      "execution_count": 6,
      "outputs": [
        {
          "output_type": "stream",
          "name": "stdout",
          "text": [
            "+----------+----------+--------------------+--------+-------------------+----------+-----------+--------------+\n",
            "|invoice_no|stock_code|         description|quantity|  invoice_timestamp|unit_price|customer_id|  country_name|\n",
            "+----------+----------+--------------------+--------+-------------------+----------+-----------+--------------+\n",
            "|    536365|    85123A|WHITE HANGING HEA...|       6|2010-12-01 08:26:00|      2.55|      17850|United Kingdom|\n",
            "|    536365|     71053| WHITE METAL LANTERN|       6|2010-12-01 08:26:00|      3.39|      17850|United Kingdom|\n",
            "|    536365|    84406B|CREAM CUPID HEART...|       8|2010-12-01 08:26:00|      2.75|      17850|United Kingdom|\n",
            "|    536365|    84029G|KNITTED UNION FLA...|       6|2010-12-01 08:26:00|      3.39|      17850|United Kingdom|\n",
            "|    536365|    84029E|RED WOOLLY HOTTIE...|       6|2010-12-01 08:26:00|      3.39|      17850|United Kingdom|\n",
            "+----------+----------+--------------------+--------+-------------------+----------+-----------+--------------+\n",
            "only showing top 5 rows\n",
            "\n"
          ]
        }
      ]
    },
    {
      "cell_type": "code",
      "source": [
        "df = df.withColumn('created_by', F.lit('Cashier'))"
      ],
      "metadata": {
        "id": "IXXzhnNVrocm"
      },
      "execution_count": 7,
      "outputs": []
    },
    {
      "cell_type": "code",
      "source": [
        "df.show(5)"
      ],
      "metadata": {
        "colab": {
          "base_uri": "https://localhost:8080/"
        },
        "id": "VYoatvkArq5W",
        "outputId": "2e696306-8bfb-4ab9-b04f-4b9149d0331c"
      },
      "execution_count": 8,
      "outputs": [
        {
          "output_type": "stream",
          "name": "stdout",
          "text": [
            "+----------+----------+--------------------+--------+-------------------+----------+-----------+--------------+----------+\n",
            "|invoice_no|stock_code|         description|quantity|  invoice_timestamp|unit_price|customer_id|  country_name|created_by|\n",
            "+----------+----------+--------------------+--------+-------------------+----------+-----------+--------------+----------+\n",
            "|    536365|    85123A|WHITE HANGING HEA...|       6|2010-12-01 08:26:00|      2.55|      17850|United Kingdom|   Cashier|\n",
            "|    536365|     71053| WHITE METAL LANTERN|       6|2010-12-01 08:26:00|      3.39|      17850|United Kingdom|   Cashier|\n",
            "|    536365|    84406B|CREAM CUPID HEART...|       8|2010-12-01 08:26:00|      2.75|      17850|United Kingdom|   Cashier|\n",
            "|    536365|    84029G|KNITTED UNION FLA...|       6|2010-12-01 08:26:00|      3.39|      17850|United Kingdom|   Cashier|\n",
            "|    536365|    84029E|RED WOOLLY HOTTIE...|       6|2010-12-01 08:26:00|      3.39|      17850|United Kingdom|   Cashier|\n",
            "+----------+----------+--------------------+--------+-------------------+----------+-----------+--------------+----------+\n",
            "only showing top 5 rows\n",
            "\n"
          ]
        }
      ]
    },
    {
      "cell_type": "code",
      "source": [
        "df = df.withColumn('created_by',\n",
        "                   F.when(F.to_date('invoice_timestamp') == F.to_date(F.lit('2010-12-01')), 'Owner')\\\n",
        "                  .otherwise('Cashier')\n",
        "                   )\n",
        "df.show(5)"
      ],
      "metadata": {
        "colab": {
          "base_uri": "https://localhost:8080/"
        },
        "id": "ojVEzY-7ruBU",
        "outputId": "5954ce7c-7d66-4e34-8967-bc32f81dc7d3"
      },
      "execution_count": 9,
      "outputs": [
        {
          "output_type": "stream",
          "name": "stdout",
          "text": [
            "+----------+----------+--------------------+--------+-------------------+----------+-----------+--------------+----------+\n",
            "|invoice_no|stock_code|         description|quantity|  invoice_timestamp|unit_price|customer_id|  country_name|created_by|\n",
            "+----------+----------+--------------------+--------+-------------------+----------+-----------+--------------+----------+\n",
            "|    536365|    85123A|WHITE HANGING HEA...|       6|2010-12-01 08:26:00|      2.55|      17850|United Kingdom|     Owner|\n",
            "|    536365|     71053| WHITE METAL LANTERN|       6|2010-12-01 08:26:00|      3.39|      17850|United Kingdom|     Owner|\n",
            "|    536365|    84406B|CREAM CUPID HEART...|       8|2010-12-01 08:26:00|      2.75|      17850|United Kingdom|     Owner|\n",
            "|    536365|    84029G|KNITTED UNION FLA...|       6|2010-12-01 08:26:00|      3.39|      17850|United Kingdom|     Owner|\n",
            "|    536365|    84029E|RED WOOLLY HOTTIE...|       6|2010-12-01 08:26:00|      3.39|      17850|United Kingdom|     Owner|\n",
            "+----------+----------+--------------------+--------+-------------------+----------+-----------+--------------+----------+\n",
            "only showing top 5 rows\n",
            "\n"
          ]
        }
      ]
    },
    {
      "cell_type": "code",
      "source": [
        "df.where(F.to_date('invoice_timestamp') != F.to_date(F.lit('2010-12-01'))).show(5)"
      ],
      "metadata": {
        "colab": {
          "base_uri": "https://localhost:8080/"
        },
        "id": "zl-169drrwTe",
        "outputId": "d8d73988-9418-4f4e-db31-a67c2994022b"
      },
      "execution_count": 10,
      "outputs": [
        {
          "output_type": "stream",
          "name": "stdout",
          "text": [
            "+----------+----------+--------------------+--------+-------------------+----------+-----------+--------------+----------+\n",
            "|invoice_no|stock_code|         description|quantity|  invoice_timestamp|unit_price|customer_id|  country_name|created_by|\n",
            "+----------+----------+--------------------+--------+-------------------+----------+-----------+--------------+----------+\n",
            "|    536598|     21421|PORCELAIN ROSE LA...|      12|2010-12-02 07:48:00|      1.25|      13090|United Kingdom|   Cashier|\n",
            "|    536598|     21422|PORCELAIN ROSE SMALL|      16|2010-12-02 07:48:00|      0.85|      13090|United Kingdom|   Cashier|\n",
            "|    536598|     22178|VICTORIAN GLASS H...|      24|2010-12-02 07:48:00|      1.25|      13090|United Kingdom|   Cashier|\n",
            "|    536598|     22617|BAKING SET SPACEB...|      24|2010-12-02 07:48:00|      4.25|      13090|United Kingdom|   Cashier|\n",
            "|    536599|     22968|ROSE COTTAGE KEEP...|       8|2010-12-02 07:49:00|       8.5|      15694|United Kingdom|   Cashier|\n",
            "+----------+----------+--------------------+--------+-------------------+----------+-----------+--------------+----------+\n",
            "only showing top 5 rows\n",
            "\n"
          ]
        }
      ]
    },
    {
      "cell_type": "code",
      "source": [
        "df = df.withColumn('created_by',\n",
        "                   F.when(F.to_date('invoice_timestamp') == F.to_date(F.lit('2010-12-01')), 'Owner')\\\n",
        "                  .otherwise(\n",
        "                      F.when(F.to_date('invoice_timestamp') == F.to_date(F.lit('2010-12-02')), 'Admin')\\\n",
        "                      .otherwise('Cashier')\n",
        "                  )\n",
        "                )\n",
        "df.where(F.to_date('invoice_timestamp') == F.to_date(F.lit('2010-12-03'))).show(5)"
      ],
      "metadata": {
        "colab": {
          "base_uri": "https://localhost:8080/"
        },
        "id": "td6VBWWorx0y",
        "outputId": "16062f12-669f-4bc7-9cb0-4c6553e76888"
      },
      "execution_count": 11,
      "outputs": [
        {
          "output_type": "stream",
          "name": "stdout",
          "text": [
            "+----------+----------+--------------------+--------+-------------------+----------+-----------+--------------+----------+\n",
            "|invoice_no|stock_code|         description|quantity|  invoice_timestamp|unit_price|customer_id|  country_name|created_by|\n",
            "+----------+----------+--------------------+--------+-------------------+----------+-----------+--------------+----------+\n",
            "|    536847|     22155|STAR DECORATION R...|      48|2010-12-03 09:31:00|      0.42|      17135|United Kingdom|   Cashier|\n",
            "|    536847|     21807|WHITE CHRISTMAS S...|      36|2010-12-03 09:31:00|      0.42|      17135|United Kingdom|   Cashier|\n",
            "|    536847|     22161|HEART DECORATION ...|      24|2010-12-03 09:31:00|      0.65|      17135|United Kingdom|   Cashier|\n",
            "|    536847|     22065|CHRISTMAS PUDDING...|      24|2010-12-03 09:31:00|      1.45|      17135|United Kingdom|   Cashier|\n",
            "|    536847|     20956|PORCELAIN T-LIGHT...|      12|2010-12-03 09:31:00|      1.25|      17135|United Kingdom|   Cashier|\n",
            "+----------+----------+--------------------+--------+-------------------+----------+-----------+--------------+----------+\n",
            "only showing top 5 rows\n",
            "\n"
          ]
        }
      ]
    },
    {
      "cell_type": "code",
      "source": [
        "df = df.withColumnRenamed('created_by','added_by')\n",
        "df.show()"
      ],
      "metadata": {
        "colab": {
          "base_uri": "https://localhost:8080/"
        },
        "id": "ig5RkhBMr0cQ",
        "outputId": "8197e98e-132c-43d6-c753-ec8a4b102b63"
      },
      "execution_count": 12,
      "outputs": [
        {
          "output_type": "stream",
          "name": "stdout",
          "text": [
            "+----------+----------+--------------------+--------+-------------------+----------+-----------+--------------+--------+\n",
            "|invoice_no|stock_code|         description|quantity|  invoice_timestamp|unit_price|customer_id|  country_name|added_by|\n",
            "+----------+----------+--------------------+--------+-------------------+----------+-----------+--------------+--------+\n",
            "|    536365|    85123A|WHITE HANGING HEA...|       6|2010-12-01 08:26:00|      2.55|      17850|United Kingdom|   Owner|\n",
            "|    536365|     71053| WHITE METAL LANTERN|       6|2010-12-01 08:26:00|      3.39|      17850|United Kingdom|   Owner|\n",
            "|    536365|    84406B|CREAM CUPID HEART...|       8|2010-12-01 08:26:00|      2.75|      17850|United Kingdom|   Owner|\n",
            "|    536365|    84029G|KNITTED UNION FLA...|       6|2010-12-01 08:26:00|      3.39|      17850|United Kingdom|   Owner|\n",
            "|    536365|    84029E|RED WOOLLY HOTTIE...|       6|2010-12-01 08:26:00|      3.39|      17850|United Kingdom|   Owner|\n",
            "|    536365|     22752|SET 7 BABUSHKA NE...|       2|2010-12-01 08:26:00|      7.65|      17850|United Kingdom|   Owner|\n",
            "|    536365|     21730|GLASS STAR FROSTE...|       6|2010-12-01 08:26:00|      4.25|      17850|United Kingdom|   Owner|\n",
            "|    536366|     22633|HAND WARMER UNION...|       6|2010-12-01 08:28:00|      1.85|      17850|United Kingdom|   Owner|\n",
            "|    536366|     22632|HAND WARMER RED P...|       6|2010-12-01 08:28:00|      1.85|      17850|United Kingdom|   Owner|\n",
            "|    536367|     84879|ASSORTED COLOUR B...|      32|2010-12-01 08:34:00|      1.69|      13047|United Kingdom|   Owner|\n",
            "|    536367|     22745|POPPY'S PLAYHOUSE...|       6|2010-12-01 08:34:00|       2.1|      13047|United Kingdom|   Owner|\n",
            "|    536367|     22748|POPPY'S PLAYHOUSE...|       6|2010-12-01 08:34:00|       2.1|      13047|United Kingdom|   Owner|\n",
            "|    536367|     22749|FELTCRAFT PRINCES...|       8|2010-12-01 08:34:00|      3.75|      13047|United Kingdom|   Owner|\n",
            "|    536367|     22310|IVORY KNITTED MUG...|       6|2010-12-01 08:34:00|      1.65|      13047|United Kingdom|   Owner|\n",
            "|    536367|     84969|BOX OF 6 ASSORTED...|       6|2010-12-01 08:34:00|      4.25|      13047|United Kingdom|   Owner|\n",
            "|    536367|     22623|BOX OF VINTAGE JI...|       3|2010-12-01 08:34:00|      4.95|      13047|United Kingdom|   Owner|\n",
            "|    536367|     22622|BOX OF VINTAGE AL...|       2|2010-12-01 08:34:00|      9.95|      13047|United Kingdom|   Owner|\n",
            "|    536367|     21754|HOME BUILDING BLO...|       3|2010-12-01 08:34:00|      5.95|      13047|United Kingdom|   Owner|\n",
            "|    536367|     21755|LOVE BUILDING BLO...|       3|2010-12-01 08:34:00|      5.95|      13047|United Kingdom|   Owner|\n",
            "|    536367|     21777|RECIPE BOX WITH M...|       4|2010-12-01 08:34:00|      7.95|      13047|United Kingdom|   Owner|\n",
            "+----------+----------+--------------------+--------+-------------------+----------+-----------+--------------+--------+\n",
            "only showing top 20 rows\n",
            "\n"
          ]
        }
      ]
    },
    {
      "cell_type": "code",
      "source": [
        "dedup_df = df.dropDuplicates(subset=['invoice_no'])\n",
        "dedup_df.show()"
      ],
      "metadata": {
        "colab": {
          "base_uri": "https://localhost:8080/"
        },
        "id": "B05afQLTr4Os",
        "outputId": "d142a48e-80f2-47f0-86f6-28c797001e94"
      },
      "execution_count": 13,
      "outputs": [
        {
          "output_type": "stream",
          "name": "stdout",
          "text": [
            "+----------+----------+--------------------+--------+-------------------+----------+-----------+--------------+--------+\n",
            "|invoice_no|stock_code|         description|quantity|  invoice_timestamp|unit_price|customer_id|  country_name|added_by|\n",
            "+----------+----------+--------------------+--------+-------------------+----------+-----------+--------------+--------+\n",
            "|      NULL|         D|            Discount|      -1|2010-12-01 09:41:00|      27.5|      14527|United Kingdom|   Owner|\n",
            "|    536365|    85123A|WHITE HANGING HEA...|       6|2010-12-01 08:26:00|      2.55|      17850|United Kingdom|   Owner|\n",
            "|    536366|     22633|HAND WARMER UNION...|       6|2010-12-01 08:28:00|      1.85|      17850|United Kingdom|   Owner|\n",
            "|    536367|     84879|ASSORTED COLOUR B...|      32|2010-12-01 08:34:00|      1.69|      13047|United Kingdom|   Owner|\n",
            "|    536368|     22960|JAM MAKING SET WI...|       6|2010-12-01 08:34:00|      4.25|      13047|United Kingdom|   Owner|\n",
            "|    536369|     21756|BATH BUILDING BLO...|       3|2010-12-01 08:35:00|      5.95|      13047|United Kingdom|   Owner|\n",
            "|    536370|     22728|ALARM CLOCK BAKEL...|      24|2010-12-01 08:45:00|      3.75|      12583|        France|   Owner|\n",
            "|    536371|     22086|PAPER CHAIN KIT 5...|      80|2010-12-01 09:00:00|      2.55|      13748|United Kingdom|   Owner|\n",
            "|    536372|     22632|HAND WARMER RED P...|       6|2010-12-01 09:01:00|      1.85|      17850|United Kingdom|   Owner|\n",
            "|    536373|    85123A|WHITE HANGING HEA...|       6|2010-12-01 09:02:00|      2.55|      17850|United Kingdom|   Owner|\n",
            "|    536374|     21258|VICTORIAN SEWING ...|      32|2010-12-01 09:09:00|     10.95|      15100|United Kingdom|   Owner|\n",
            "|    536375|    85123A|WHITE HANGING HEA...|       6|2010-12-01 09:32:00|      2.55|      17850|United Kingdom|   Owner|\n",
            "|    536376|     22114|HOT WATER BOTTLE ...|      48|2010-12-01 09:32:00|      3.45|      15291|United Kingdom|   Owner|\n",
            "|    536377|     22632|HAND WARMER RED P...|       6|2010-12-01 09:34:00|      1.85|      17850|United Kingdom|   Owner|\n",
            "|    536378|     21977|PACK OF 60 PINK P...|      24|2010-12-01 09:37:00|      0.55|      14688|United Kingdom|   Owner|\n",
            "|    536380|     22961|JAM MAKING SET PR...|      24|2010-12-01 09:41:00|      1.45|      17809|United Kingdom|   Owner|\n",
            "|    536381|     22139|RETROSPOT TEA SET...|      23|2010-12-01 09:41:00|      4.25|      15311|United Kingdom|   Owner|\n",
            "|    536382|     10002|INFLATABLE POLITI...|      12|2010-12-01 09:45:00|      0.85|      16098|United Kingdom|   Owner|\n",
            "|    536384|     82484|WOOD BLACK BOARD ...|       3|2010-12-01 09:53:00|      6.45|      18074|United Kingdom|   Owner|\n",
            "|    536385|     22783|SET 3 WICKER OVAL...|       1|2010-12-01 09:56:00|     19.95|      17420|United Kingdom|   Owner|\n",
            "+----------+----------+--------------------+--------+-------------------+----------+-----------+--------------+--------+\n",
            "only showing top 20 rows\n",
            "\n"
          ]
        }
      ]
    },
    {
      "cell_type": "code",
      "source": [
        "dedup_df.na.drop(subset=['invoice_no']).show(5)"
      ],
      "metadata": {
        "colab": {
          "base_uri": "https://localhost:8080/"
        },
        "id": "afBUXd5Lr6WZ",
        "outputId": "642d1681-5035-4952-9329-b8a13c1805dd"
      },
      "execution_count": 14,
      "outputs": [
        {
          "output_type": "stream",
          "name": "stdout",
          "text": [
            "+----------+----------+--------------------+--------+-------------------+----------+-----------+--------------+--------+\n",
            "|invoice_no|stock_code|         description|quantity|  invoice_timestamp|unit_price|customer_id|  country_name|added_by|\n",
            "+----------+----------+--------------------+--------+-------------------+----------+-----------+--------------+--------+\n",
            "|    536365|    85123A|WHITE HANGING HEA...|       6|2010-12-01 08:26:00|      2.55|      17850|United Kingdom|   Owner|\n",
            "|    536366|     22633|HAND WARMER UNION...|       6|2010-12-01 08:28:00|      1.85|      17850|United Kingdom|   Owner|\n",
            "|    536367|     84879|ASSORTED COLOUR B...|      32|2010-12-01 08:34:00|      1.69|      13047|United Kingdom|   Owner|\n",
            "|    536368|     22960|JAM MAKING SET WI...|       6|2010-12-01 08:34:00|      4.25|      13047|United Kingdom|   Owner|\n",
            "|    536369|     21756|BATH BUILDING BLO...|       3|2010-12-01 08:35:00|      5.95|      13047|United Kingdom|   Owner|\n",
            "+----------+----------+--------------------+--------+-------------------+----------+-----------+--------------+--------+\n",
            "only showing top 5 rows\n",
            "\n"
          ]
        }
      ]
    },
    {
      "cell_type": "code",
      "source": [
        "dedup_df.na.fill({'invoice_no':1}).show(5)"
      ],
      "metadata": {
        "colab": {
          "base_uri": "https://localhost:8080/"
        },
        "id": "Mbdlroegr8CB",
        "outputId": "0a6ecf93-efc2-4b2f-8c46-88c8cf9aad84"
      },
      "execution_count": 15,
      "outputs": [
        {
          "output_type": "stream",
          "name": "stdout",
          "text": [
            "+----------+----------+--------------------+--------+-------------------+----------+-----------+--------------+--------+\n",
            "|invoice_no|stock_code|         description|quantity|  invoice_timestamp|unit_price|customer_id|  country_name|added_by|\n",
            "+----------+----------+--------------------+--------+-------------------+----------+-----------+--------------+--------+\n",
            "|         1|         D|            Discount|      -1|2010-12-01 09:41:00|      27.5|      14527|United Kingdom|   Owner|\n",
            "|    536365|    85123A|WHITE HANGING HEA...|       6|2010-12-01 08:26:00|      2.55|      17850|United Kingdom|   Owner|\n",
            "|    536366|     22633|HAND WARMER UNION...|       6|2010-12-01 08:28:00|      1.85|      17850|United Kingdom|   Owner|\n",
            "|    536367|     84879|ASSORTED COLOUR B...|      32|2010-12-01 08:34:00|      1.69|      13047|United Kingdom|   Owner|\n",
            "|    536368|     22960|JAM MAKING SET WI...|       6|2010-12-01 08:34:00|      4.25|      13047|United Kingdom|   Owner|\n",
            "+----------+----------+--------------------+--------+-------------------+----------+-----------+--------------+--------+\n",
            "only showing top 5 rows\n",
            "\n"
          ]
        }
      ]
    },
    {
      "cell_type": "code",
      "source": [
        "df.withColumn('description', F.initcap('description')).show()"
      ],
      "metadata": {
        "colab": {
          "base_uri": "https://localhost:8080/"
        },
        "id": "NnHKPvMysAH0",
        "outputId": "b3bccbb7-2817-4ede-f7cd-7da8cbceef2f"
      },
      "execution_count": 16,
      "outputs": [
        {
          "output_type": "stream",
          "name": "stdout",
          "text": [
            "+----------+----------+--------------------+--------+-------------------+----------+-----------+--------------+--------+\n",
            "|invoice_no|stock_code|         description|quantity|  invoice_timestamp|unit_price|customer_id|  country_name|added_by|\n",
            "+----------+----------+--------------------+--------+-------------------+----------+-----------+--------------+--------+\n",
            "|    536365|    85123A|White Hanging Hea...|       6|2010-12-01 08:26:00|      2.55|      17850|United Kingdom|   Owner|\n",
            "|    536365|     71053| White Metal Lantern|       6|2010-12-01 08:26:00|      3.39|      17850|United Kingdom|   Owner|\n",
            "|    536365|    84406B|Cream Cupid Heart...|       8|2010-12-01 08:26:00|      2.75|      17850|United Kingdom|   Owner|\n",
            "|    536365|    84029G|Knitted Union Fla...|       6|2010-12-01 08:26:00|      3.39|      17850|United Kingdom|   Owner|\n",
            "|    536365|    84029E|Red Woolly Hottie...|       6|2010-12-01 08:26:00|      3.39|      17850|United Kingdom|   Owner|\n",
            "|    536365|     22752|Set 7 Babushka Ne...|       2|2010-12-01 08:26:00|      7.65|      17850|United Kingdom|   Owner|\n",
            "|    536365|     21730|Glass Star Froste...|       6|2010-12-01 08:26:00|      4.25|      17850|United Kingdom|   Owner|\n",
            "|    536366|     22633|Hand Warmer Union...|       6|2010-12-01 08:28:00|      1.85|      17850|United Kingdom|   Owner|\n",
            "|    536366|     22632|Hand Warmer Red P...|       6|2010-12-01 08:28:00|      1.85|      17850|United Kingdom|   Owner|\n",
            "|    536367|     84879|Assorted Colour B...|      32|2010-12-01 08:34:00|      1.69|      13047|United Kingdom|   Owner|\n",
            "|    536367|     22745|Poppy's Playhouse...|       6|2010-12-01 08:34:00|       2.1|      13047|United Kingdom|   Owner|\n",
            "|    536367|     22748|Poppy's Playhouse...|       6|2010-12-01 08:34:00|       2.1|      13047|United Kingdom|   Owner|\n",
            "|    536367|     22749|Feltcraft Princes...|       8|2010-12-01 08:34:00|      3.75|      13047|United Kingdom|   Owner|\n",
            "|    536367|     22310|Ivory Knitted Mug...|       6|2010-12-01 08:34:00|      1.65|      13047|United Kingdom|   Owner|\n",
            "|    536367|     84969|Box Of 6 Assorted...|       6|2010-12-01 08:34:00|      4.25|      13047|United Kingdom|   Owner|\n",
            "|    536367|     22623|Box Of Vintage Ji...|       3|2010-12-01 08:34:00|      4.95|      13047|United Kingdom|   Owner|\n",
            "|    536367|     22622|Box Of Vintage Al...|       2|2010-12-01 08:34:00|      9.95|      13047|United Kingdom|   Owner|\n",
            "|    536367|     21754|Home Building Blo...|       3|2010-12-01 08:34:00|      5.95|      13047|United Kingdom|   Owner|\n",
            "|    536367|     21755|Love Building Blo...|       3|2010-12-01 08:34:00|      5.95|      13047|United Kingdom|   Owner|\n",
            "|    536367|     21777|Recipe Box With M...|       4|2010-12-01 08:34:00|      7.95|      13047|United Kingdom|   Owner|\n",
            "+----------+----------+--------------------+--------+-------------------+----------+-----------+--------------+--------+\n",
            "only showing top 20 rows\n",
            "\n"
          ]
        }
      ]
    },
    {
      "cell_type": "code",
      "source": [
        "df.withColumn('customer_id', F.col('customer_id').cast(StringType())).printSchema()"
      ],
      "metadata": {
        "colab": {
          "base_uri": "https://localhost:8080/"
        },
        "id": "ONDzRixXsCYa",
        "outputId": "82ca25d3-6a77-4dad-8d60-08eb0afd3065"
      },
      "execution_count": 17,
      "outputs": [
        {
          "output_type": "stream",
          "name": "stdout",
          "text": [
            "root\n",
            " |-- invoice_no: integer (nullable = true)\n",
            " |-- stock_code: string (nullable = true)\n",
            " |-- description: string (nullable = true)\n",
            " |-- quantity: integer (nullable = true)\n",
            " |-- invoice_timestamp: timestamp (nullable = true)\n",
            " |-- unit_price: double (nullable = true)\n",
            " |-- customer_id: string (nullable = true)\n",
            " |-- country_name: string (nullable = true)\n",
            " |-- added_by: string (nullable = false)\n",
            "\n"
          ]
        }
      ]
    },
    {
      "cell_type": "markdown",
      "source": [
        "# DATA VISUALIZATION"
      ],
      "metadata": {
        "id": "jBG-thO6sEWB"
      }
    },
    {
      "cell_type": "code",
      "source": [
        "df = df.withColumn('sub_total', F.round(F.col('quantity') * F.col('unit_price'),2))\n",
        "df.show(5)"
      ],
      "metadata": {
        "colab": {
          "base_uri": "https://localhost:8080/"
        },
        "id": "AT2g2GpJsL7q",
        "outputId": "9f555dd4-4f80-4695-91c1-4c4ee7fea934"
      },
      "execution_count": 18,
      "outputs": [
        {
          "output_type": "stream",
          "name": "stdout",
          "text": [
            "+----------+----------+--------------------+--------+-------------------+----------+-----------+--------------+--------+---------+\n",
            "|invoice_no|stock_code|         description|quantity|  invoice_timestamp|unit_price|customer_id|  country_name|added_by|sub_total|\n",
            "+----------+----------+--------------------+--------+-------------------+----------+-----------+--------------+--------+---------+\n",
            "|    536365|    85123A|WHITE HANGING HEA...|       6|2010-12-01 08:26:00|      2.55|      17850|United Kingdom|   Owner|     15.3|\n",
            "|    536365|     71053| WHITE METAL LANTERN|       6|2010-12-01 08:26:00|      3.39|      17850|United Kingdom|   Owner|    20.34|\n",
            "|    536365|    84406B|CREAM CUPID HEART...|       8|2010-12-01 08:26:00|      2.75|      17850|United Kingdom|   Owner|     22.0|\n",
            "|    536365|    84029G|KNITTED UNION FLA...|       6|2010-12-01 08:26:00|      3.39|      17850|United Kingdom|   Owner|    20.34|\n",
            "|    536365|    84029E|RED WOOLLY HOTTIE...|       6|2010-12-01 08:26:00|      3.39|      17850|United Kingdom|   Owner|    20.34|\n",
            "+----------+----------+--------------------+--------+-------------------+----------+-----------+--------------+--------+---------+\n",
            "only showing top 5 rows\n",
            "\n"
          ]
        }
      ]
    },
    {
      "cell_type": "code",
      "source": [
        "df_total_per_day = df.groupBy(F.to_date('invoice_timestamp').alias('invoice_date'))\\\n",
        "                      .agg(F.round(F.sum('sub_total'),2).alias('total_per_day'))\\\n",
        "                      .orderBy('invoice_date',ascending=False)\n",
        "df_total_per_day.show()"
      ],
      "metadata": {
        "colab": {
          "base_uri": "https://localhost:8080/"
        },
        "id": "a8nmdLd2sPyN",
        "outputId": "52b50b0a-6fa7-41a6-cbb2-92d4cf6193ca"
      },
      "execution_count": 19,
      "outputs": [
        {
          "output_type": "stream",
          "name": "stdout",
          "text": [
            "+------------+-------------+\n",
            "|invoice_date|total_per_day|\n",
            "+------------+-------------+\n",
            "|  2011-12-09|     32131.53|\n",
            "|  2011-12-08|     81417.78|\n",
            "|  2011-12-07|     75076.22|\n",
            "|  2011-12-06|     54228.37|\n",
            "|  2011-12-05|     57751.32|\n",
            "|  2011-12-04|     24565.78|\n",
            "|  2011-12-02|     57086.06|\n",
            "|  2011-12-01|     51410.95|\n",
            "|  2011-11-30|     59150.98|\n",
            "|  2011-11-29|      72219.2|\n",
            "|  2011-11-28|     55442.02|\n",
            "|  2011-11-27|      20571.5|\n",
            "|  2011-11-25|     50442.72|\n",
            "|  2011-11-24|     48080.28|\n",
            "|  2011-11-23|      78480.7|\n",
            "|  2011-11-22|     62307.32|\n",
            "|  2011-11-21|      48302.5|\n",
            "|  2011-11-20|     34902.01|\n",
            "|  2011-11-18|      48031.8|\n",
            "|  2011-11-17|     60329.72|\n",
            "+------------+-------------+\n",
            "only showing top 20 rows\n",
            "\n"
          ]
        }
      ]
    },
    {
      "cell_type": "markdown",
      "source": [
        "# VISUALIZATION USING PANDAS"
      ],
      "metadata": {
        "id": "rEaNiN1msYib"
      }
    },
    {
      "cell_type": "code",
      "source": [
        "pandas_df_total_per_day = df_total_per_day.toPandas()\n",
        "pandas_df_total_per_day.plot(x='invoice_date',y='total_per_day', kind='line')"
      ],
      "metadata": {
        "colab": {
          "base_uri": "https://localhost:8080/",
          "height": 467
        },
        "id": "6r660zV6sSlw",
        "outputId": "49dcd2c9-6e77-4ef9-9cc9-d15c61a67e47"
      },
      "execution_count": 20,
      "outputs": [
        {
          "output_type": "execute_result",
          "data": {
            "text/plain": [
              "<Axes: xlabel='invoice_date'>"
            ]
          },
          "metadata": {},
          "execution_count": 20
        },
        {
          "output_type": "display_data",
          "data": {
            "text/plain": [
              "<Figure size 640x480 with 1 Axes>"
            ],
            "image/png": "[encoded data removed]"
          },
          "metadata": {}
        }
      ]
    },
    {
      "cell_type": "markdown",
      "source": [
        "# USING PLOTLY"
      ],
      "metadata": {
        "id": "5tzd6wjtsw0M"
      }
    },
    {
      "cell_type": "code",
      "source": [
        "! pip install plotly"
      ],
      "metadata": {
        "colab": {
          "base_uri": "https://localhost:8080/"
        },
        "id": "wTi7RrXpsV2H",
        "outputId": "3eb67bc3-d42c-4c53-f044-cc3d4cf87861"
      },
      "execution_count": 21,
      "outputs": [
        {
          "output_type": "stream",
          "name": "stdout",
          "text": [
            "Requirement already satisfied: plotly in /usr/local/lib/python3.10/dist-packages (5.15.0)\n",
            "Requirement already satisfied: tenacity>=6.2.0 in /usr/local/lib/python3.10/dist-packages (from plotly) (8.3.0)\n",
            "Requirement already satisfied: packaging in /usr/local/lib/python3.10/dist-packages (from plotly) (24.0)\n"
          ]
        }
      ]
    },
    {
      "cell_type": "code",
      "source": [
        "import plotly.express as px\n",
        "px.line(pandas_df_total_per_day, x='invoice_date',y='total_per_day').show()"
      ],
      "metadata": {
        "colab": {
          "base_uri": "https://localhost:8080/",
          "height": 542
        },
        "id": "1djPQXRIseqW",
        "outputId": "fd40437f-703a-4f32-def0-9b91fc9a3d33"
      },
      "execution_count": 22,
      "outputs": [
        {
          "output_type": "display_data",
          "data": {
            "text/html": [
              "<html>\n",
              "<head><meta charset=\"utf-8\" /></head>\n",
              "<body>\n",
              "    <div>            <script src=\"https://cdnjs.cloudflare.com/ajax/libs/mathjax/2.7.5/MathJax.js?config=TeX-AMS-MML_SVG\"></script><script type=\"text/javascript\">if (window.MathJax && window.MathJax.Hub && window.MathJax.Hub.Config) {window.MathJax.Hub.Config({SVG: {font: \"STIX-Web\"}});}</script>                <script type=\"text/javascript\">window.PlotlyConfig = {MathJaxConfig: 'local'};</script>\n",
              "        <script charset=\"utf-8\" src=\"https://cdn.plot.ly/plotly-2.24.1.min.js\"></script>                <div id=\"0e9f7e2a-b602-4a0e-ae93-23d811dab848\" class=\"plotly-graph-div\" style=\"height:525px; width:100%;\"></div>            <script type=\"text/javascript\">                                    window.PLOTLYENV=window.PLOTLYENV || {};                                    if (document.getElementById(\"0e9f7e2a-b602-4a0e-ae93-23d811dab848\")) {                    Plotly.newPlot(                        \"0e9f7e2a-b602-4a0e-ae93-23d811dab848\",                        [{\"hovertemplate\":\"invoice_date=%{x}\\u003cbr\\u003etotal_per_day=%{y}\\u003cextra\\u003e\\u003c\\u002fextra\\u003e\",\"legendgroup\":\"\",\"line\":{\"color\":\"#636efa\",\"dash\":\"solid\"},\"marker\":{\"symbol\":\"circle\"},\"mode\":\"lines\",\"name\":\"\",\"orientation\":\"v\",\"showlegend\":false,\"x\":[\"2011-12-09\",\"2011-12-08\",\"2011-12-07\",\"2011-12-06\",\"2011-12-05\",\"2011-12-04\",\"2011-12-02\",\"2011-12-01\",\"2011-11-30\",\"2011-11-29\",\"2011-11-28\",\"2011-11-27\",\"2011-11-25\",\"2011-11-24\",\"2011-11-23\",\"2011-11-22\",\"2011-11-21\",\"2011-11-20\",\"2011-11-18\",\"2011-11-17\",\"2011-11-16\",\"2011-11-15\",\"2011-11-14\",\"2011-11-13\",\"2011-11-11\",\"2011-11-10\",\"2011-11-09\",\"2011-11-08\",\"2011-11-07\",\"2011-11-06\",\"2011-11-04\",\"2011-11-03\",\"2011-11-02\",\"2011-11-01\",\"2011-10-31\",\"2011-10-30\",\"2011-10-28\",\"2011-10-27\",\"2011-10-26\",\"2011-10-25\",\"2011-10-24\",\"2011-10-23\",\"2011-10-21\",\"2011-10-20\",\"2011-10-19\",\"2011-10-18\",\"2011-10-17\",\"2011-10-16\",\"2011-10-14\",\"2011-10-13\",\"2011-10-12\",\"2011-10-11\",\"2011-10-10\",\"2011-10-09\",\"2011-10-07\",\"2011-10-06\",\"2011-10-05\",\"2011-10-04\",\"2011-10-03\",\"2011-10-02\",\"2011-09-30\",\"2011-09-29\",\"2011-09-28\",\"2011-09-27\",\"2011-09-26\",\"2011-09-25\",\"2011-09-23\",\"2011-09-22\",\"2011-09-21\",\"2011-09-20\",\"2011-09-19\",\"2011-09-18\",\"2011-09-16\",\"2011-09-15\",\"2011-09-14\",\"2011-09-13\",\"2011-09-12\",\"2011-09-11\",\"2011-09-09\",\"2011-09-08\",\"2011-09-07\",\"2011-09-06\",\"2011-09-05\",\"2011-09-04\",\"2011-09-02\",\"2011-09-01\",\"2011-08-31\",\"2011-08-30\",\"2011-08-28\",\"2011-08-26\",\"2011-08-25\",\"2011-08-24\",\"2011-08-23\",\"2011-08-22\",\"2011-08-21\",\"2011-08-19\",\"2011-08-18\",\"2011-08-17\",\"2011-08-16\",\"2011-08-15\",\"2011-08-14\",\"2011-08-12\",\"2011-08-11\",\"2011-08-10\",\"2011-08-09\",\"2011-08-08\",\"2011-08-07\",\"2011-08-05\",\"2011-08-04\",\"2011-08-03\",\"2011-08-02\",\"2011-08-01\",\"2011-07-31\",\"2011-07-29\",\"2011-07-28\",\"2011-07-27\",\"2011-07-26\",\"2011-07-25\",\"2011-07-24\",\"2011-07-22\",\"2011-07-21\",\"2011-07-20\",\"2011-07-19\",\"2011-07-18\",\"2011-07-17\",\"2011-07-15\",\"2011-07-14\",\"2011-07-13\",\"2011-07-12\",\"2011-07-11\",\"2011-07-10\",\"2011-07-08\",\"2011-07-07\",\"2011-07-06\",\"2011-07-05\",\"2011-07-04\",\"2011-07-03\",\"2011-07-01\",\"2011-06-30\",\"2011-06-29\",\"2011-06-28\",\"2011-06-27\",\"2011-06-26\",\"2011-06-24\",\"2011-06-23\",\"2011-06-22\",\"2011-06-21\",\"2011-06-20\",\"2011-06-19\",\"2011-06-17\",\"2011-06-16\",\"2011-06-15\",\"2011-06-14\",\"2011-06-13\",\"2011-06-12\",\"2011-06-10\",\"2011-06-09\",\"2011-06-08\",\"2011-06-07\",\"2011-06-06\",\"2011-06-05\",\"2011-06-03\",\"2011-06-02\",\"2011-06-01\",\"2011-05-31\",\"2011-05-29\",\"2011-05-27\",\"2011-05-26\",\"2011-05-25\",\"2011-05-24\",\"2011-05-23\",\"2011-05-22\",\"2011-05-20\",\"2011-05-19\",\"2011-05-18\",\"2011-05-17\",\"2011-05-16\",\"2011-05-15\",\"2011-05-13\",\"2011-05-12\",\"2011-05-11\",\"2011-05-10\",\"2011-05-09\",\"2011-05-08\",\"2011-05-06\",\"2011-05-05\",\"2011-05-04\",\"2011-05-03\",\"2011-05-01\",\"2011-04-28\",\"2011-04-27\",\"2011-04-26\",\"2011-04-21\",\"2011-04-20\",\"2011-04-19\",\"2011-04-18\",\"2011-04-17\",\"2011-04-15\",\"2011-04-14\",\"2011-04-13\",\"2011-04-12\",\"2011-04-11\",\"2011-04-10\",\"2011-04-08\",\"2011-04-07\",\"2011-04-06\",\"2011-04-05\",\"2011-04-04\",\"2011-04-03\",\"2011-04-01\",\"2011-03-31\",\"2011-03-30\",\"2011-03-29\",\"2011-03-28\",\"2011-03-27\",\"2011-03-25\",\"2011-03-24\",\"2011-03-23\",\"2011-03-22\",\"2011-03-21\",\"2011-03-20\",\"2011-03-18\",\"2011-03-17\",\"2011-03-16\",\"2011-03-15\",\"2011-03-14\",\"2011-03-13\",\"2011-03-11\",\"2011-03-10\",\"2011-03-09\",\"2011-03-08\",\"2011-03-07\",\"2011-03-06\",\"2011-03-04\",\"2011-03-03\",\"2011-03-02\",\"2011-03-01\",\"2011-02-28\",\"2011-02-27\",\"2011-02-25\",\"2011-02-24\",\"2011-02-23\",\"2011-02-22\",\"2011-02-21\",\"2011-02-20\",\"2011-02-18\",\"2011-02-17\",\"2011-02-16\",\"2011-02-15\",\"2011-02-14\",\"2011-02-13\",\"2011-02-11\",\"2011-02-10\",\"2011-02-09\",\"2011-02-08\",\"2011-02-07\",\"2011-02-06\",\"2011-02-04\",\"2011-02-03\",\"2011-02-02\",\"2011-02-01\",\"2011-01-31\",\"2011-01-30\",\"2011-01-28\",\"2011-01-27\",\"2011-01-26\",\"2011-01-25\",\"2011-01-24\",\"2011-01-23\",\"2011-01-21\",\"2011-01-20\",\"2011-01-19\",\"2011-01-18\",\"2011-01-17\",\"2011-01-16\",\"2011-01-14\",\"2011-01-13\",\"2011-01-12\",\"2011-01-11\",\"2011-01-10\",\"2011-01-09\",\"2011-01-07\",\"2011-01-06\",\"2011-01-05\",\"2011-01-04\",\"2010-12-23\",\"2010-12-22\",\"2010-12-21\",\"2010-12-20\",\"2010-12-19\",\"2010-12-17\",\"2010-12-16\",\"2010-12-15\",\"2010-12-14\",\"2010-12-13\",\"2010-12-12\",\"2010-12-10\",\"2010-12-09\",\"2010-12-08\",\"2010-12-07\",\"2010-12-06\",\"2010-12-05\",\"2010-12-03\",\"2010-12-02\",\"2010-12-01\"],\"xaxis\":\"x\",\"y\":[32131.53,81417.78,75076.22,54228.37,57751.32,24565.78,57086.06,51410.95,59150.98,72219.2,55442.02,20571.5,50442.72,48080.28,78480.7,62307.32,48302.5,34902.01,48031.8,60329.72,64408.7,60594.23,112141.11,33520.22,54835.51,68956.24,62599.43,56647.66,70001.08,42912.4,60081.76,62816.55,45239.06,28741.55,48475.45,34545.28,39559.47,47480.15,37842.08,40807.49,38407.72,12302.41,62961.26,60793.14,36003.43,44637.84,47064.14,21605.44,35225.54,37067.17,29302.85,38267.75,44265.89,11922.24,47538.02,55306.28,75244.43,48240.84,64214.78,11623.58,43992.85,43464.33,43383.04,35752.16,28642.27,31210.92,39426.48,57076.83,42944.07,109286.21,46212.21,15692.33,25858.06,62943.81,23360.66,54828.45,29039.31,35465.47,29317.69,26708.0,34125.65,28052.62,36844.04,17018.49,41745.07,37296.6,16118.0,31640.9,10784.78,25550.23,22458.88,37074.9,25756.3,27978.41,14549.21,17248.54,53225.67,49392.22,19103.71,17205.54,5150.18,10049.48,72132.79,27474.22,26623.2,19987.15,7464.12,21298.3,61028.65,27075.02,14947.27,21362.84,33486.36,18094.21,55706.88,25568.45,21271.3,26687.65,26476.2,20015.23,30957.07,27305.41,49316.78,28443.27,17174.66,14478.93,32575.96,11612.05,25892.04,22429.53,5692.07,26840.08,31357.72,26279.58,40334.97,44154.75,5977.14,13171.82,43834.55,21775.43,34704.64,16823.86,6175.17,8619.88,24273.31,21794.94,22730.01,33493.4,22360.01,20800.72,34131.73,46139.18,40211.93,20372.93,12483.86,22540.66,45515.75,42940.91,37644.3,16791.39,25520.35,16751.0,32502.01,20191.2,21967.96,7208.3,28232.19,33208.59,24152.28,37028.91,30739.55,24205.37,26256.52,34348.75,34337.29,53603.83,25279.77,9924.28,30744.07,59911.97,33240.36,45564.12,26060.43,18808.92,35714.58,28750.65,27462.3,19617.86,6964.66,21241.9,25590.56,30585.54,31198.6,28239.39,23837.65,32185.61,12704.3,28327.13,35295.58,23898.2,25124.25,22110.31,9363.88,23299.14,18229.0,17279.35,28353.83,25073.02,6878.1,24391.78,31004.08,31489.25,70531.47,19207.03,8979.98,30656.03,36562.1,24029.07,31312.35,16370.27,21980.64,16770.46,38804.25,21182.64,20660.03,25864.59,4137.62,21995.28,25597.89,21907.12,25017.47,30525.58,9596.23,19474.87,35842.62,18296.45,25471.71,21753.68,9491.05,18029.84,22655.83,26792.76,32292.62,23807.83,9578.89,15928.4,26361.87,24730.81,36842.58,26222.03,5535.4,20387.28,13427.54,16692.58,20728.14,25525.99,3457.11,24994.17,23344.58,21048.45,28433.22,22364.65,6456.44,18567.77,21092.14,19493.32,27971.52,25555.62,10285.95,31978.44,17995.91,25585.81,18680.8,29256.0,7116.61,47377.26,20533.54,23958.78,67817.13,24191.64,15710.8,27233.14,37392.74,-1566.23,14950.48,11796.31,6134.57,47097.94,24741.75,7517.31,43534.19,48334.35,29443.69,42843.29,35379.34,17240.92,57404.91,52532.13,44189.84,45059.05,53860.18,31383.95,45620.46,46207.28,58635.56],\"yaxis\":\"y\",\"type\":\"scatter\"}],                        {\"template\":{\"data\":{\"histogram2dcontour\":[{\"type\":\"histogram2dcontour\",\"colorbar\":{\"outlinewidth\":0,\"ticks\":\"\"},\"colorscale\":[[0.0,\"#0d0887\"],[0.1111111111111111,\"#46039f\"],[0.2222222222222222,\"#7201a8\"],[0.3333333333333333,\"#9c179e\"],[0.4444444444444444,\"#bd3786\"],[0.5555555555555556,\"#d8576b\"],[0.6666666666666666,\"#ed7953\"],[0.7777777777777778,\"#fb9f3a\"],[0.8888888888888888,\"#fdca26\"],[1.0,\"#f0f921\"]]}],\"choropleth\":[{\"type\":\"choropleth\",\"colorbar\":{\"outlinewidth\":0,\"ticks\":\"\"}}],\"histogram2d\":[{\"type\":\"histogram2d\",\"colorbar\":{\"outlinewidth\":0,\"ticks\":\"\"},\"colorscale\":[[0.0,\"#0d0887\"],[0.1111111111111111,\"#46039f\"],[0.2222222222222222,\"#7201a8\"],[0.3333333333333333,\"#9c179e\"],[0.4444444444444444,\"#bd3786\"],[0.5555555555555556,\"#d8576b\"],[0.6666666666666666,\"#ed7953\"],[0.7777777777777778,\"#fb9f3a\"],[0.8888888888888888,\"#fdca26\"],[1.0,\"#f0f921\"]]}],\"heatmap\":[{\"type\":\"heatmap\",\"colorbar\":{\"outlinewidth\":0,\"ticks\":\"\"},\"colorscale\":[[0.0,\"#0d0887\"],[0.1111111111111111,\"#46039f\"],[0.2222222222222222,\"#7201a8\"],[0.3333333333333333,\"#9c179e\"],[0.4444444444444444,\"#bd3786\"],[0.5555555555555556,\"#d8576b\"],[0.6666666666666666,\"#ed7953\"],[0.7777777777777778,\"#fb9f3a\"],[0.8888888888888888,\"#fdca26\"],[1.0,\"#f0f921\"]]}],\"heatmapgl\":[{\"type\":\"heatmapgl\",\"colorbar\":{\"outlinewidth\":0,\"ticks\":\"\"},\"colorscale\":[[0.0,\"#0d0887\"],[0.1111111111111111,\"#46039f\"],[0.2222222222222222,\"#7201a8\"],[0.3333333333333333,\"#9c179e\"],[0.4444444444444444,\"#bd3786\"],[0.5555555555555556,\"#d8576b\"],[0.6666666666666666,\"#ed7953\"],[0.7777777777777778,\"#fb9f3a\"],[0.8888888888888888,\"#fdca26\"],[1.0,\"#f0f921\"]]}],\"contourcarpet\":[{\"type\":\"contourcarpet\",\"colorbar\":{\"outlinewidth\":0,\"ticks\":\"\"}}],\"contour\":[{\"type\":\"contour\",\"colorbar\":{\"outlinewidth\":0,\"ticks\":\"\"},\"colorscale\":[[0.0,\"#0d0887\"],[0.1111111111111111,\"#46039f\"],[0.2222222222222222,\"#7201a8\"],[0.3333333333333333,\"#9c179e\"],[0.4444444444444444,\"#bd3786\"],[0.5555555555555556,\"#d8576b\"],[0.6666666666666666,\"#ed7953\"],[0.7777777777777778,\"#fb9f3a\"],[0.8888888888888888,\"#fdca26\"],[1.0,\"#f0f921\"]]}],\"surface\":[{\"type\":\"surface\",\"colorbar\":{\"outlinewidth\":0,\"ticks\":\"\"},\"colorscale\":[[0.0,\"#0d0887\"],[0.1111111111111111,\"#46039f\"],[0.2222222222222222,\"#7201a8\"],[0.3333333333333333,\"#9c179e\"],[0.4444444444444444,\"#bd3786\"],[0.5555555555555556,\"#d8576b\"],[0.6666666666666666,\"#ed7953\"],[0.7777777777777778,\"#fb9f3a\"],[0.8888888888888888,\"#fdca26\"],[1.0,\"#f0f921\"]]}],\"mesh3d\":[{\"type\":\"mesh3d\",\"colorbar\":{\"outlinewidth\":0,\"ticks\":\"\"}}],\"scatter\":[{\"fillpattern\":{\"fillmode\":\"overlay\",\"size\":10,\"solidity\":0.2},\"type\":\"scatter\"}],\"parcoords\":[{\"type\":\"parcoords\",\"line\":{\"colorbar\":{\"outlinewidth\":0,\"ticks\":\"\"}}}],\"scatterpolargl\":[{\"type\":\"scatterpolargl\",\"marker\":{\"colorbar\":{\"outlinewidth\":0,\"ticks\":\"\"}}}],\"bar\":[{\"error_x\":{\"color\":\"#2a3f5f\"},\"error_y\":{\"color\":\"#2a3f5f\"},\"marker\":{\"line\":{\"color\":\"#E5ECF6\",\"width\":0.5},\"pattern\":{\"fillmode\":\"overlay\",\"size\":10,\"solidity\":0.2}},\"type\":\"bar\"}],\"scattergeo\":[{\"type\":\"scattergeo\",\"marker\":{\"colorbar\":{\"outlinewidth\":0,\"ticks\":\"\"}}}],\"scatterpolar\":[{\"type\":\"scatterpolar\",\"marker\":{\"colorbar\":{\"outlinewidth\":0,\"ticks\":\"\"}}}],\"histogram\":[{\"marker\":{\"pattern\":{\"fillmode\":\"overlay\",\"size\":10,\"solidity\":0.2}},\"type\":\"histogram\"}],\"scattergl\":[{\"type\":\"scattergl\",\"marker\":{\"colorbar\":{\"outlinewidth\":0,\"ticks\":\"\"}}}],\"scatter3d\":[{\"type\":\"scatter3d\",\"line\":{\"colorbar\":{\"outlinewidth\":0,\"ticks\":\"\"}},\"marker\":{\"colorbar\":{\"outlinewidth\":0,\"ticks\":\"\"}}}],\"scattermapbox\":[{\"type\":\"scattermapbox\",\"marker\":{\"colorbar\":{\"outlinewidth\":0,\"ticks\":\"\"}}}],\"scatterternary\":[{\"type\":\"scatterternary\",\"marker\":{\"colorbar\":{\"outlinewidth\":0,\"ticks\":\"\"}}}],\"scattercarpet\":[{\"type\":\"scattercarpet\",\"marker\":{\"colorbar\":{\"outlinewidth\":0,\"ticks\":\"\"}}}],\"carpet\":[{\"aaxis\":{\"endlinecolor\":\"#2a3f5f\",\"gridcolor\":\"white\",\"linecolor\":\"white\",\"minorgridcolor\":\"white\",\"startlinecolor\":\"#2a3f5f\"},\"baxis\":{\"endlinecolor\":\"#2a3f5f\",\"gridcolor\":\"white\",\"linecolor\":\"white\",\"minorgridcolor\":\"white\",\"startlinecolor\":\"#2a3f5f\"},\"type\":\"carpet\"}],\"table\":[{\"cells\":{\"fill\":{\"color\":\"#EBF0F8\"},\"line\":{\"color\":\"white\"}},\"header\":{\"fill\":{\"color\":\"#C8D4E3\"},\"line\":{\"color\":\"white\"}},\"type\":\"table\"}],\"barpolar\":[{\"marker\":{\"line\":{\"color\":\"#E5ECF6\",\"width\":0.5},\"pattern\":{\"fillmode\":\"overlay\",\"size\":10,\"solidity\":0.2}},\"type\":\"barpolar\"}],\"pie\":[{\"automargin\":true,\"type\":\"pie\"}]},\"layout\":{\"autotypenumbers\":\"strict\",\"colorway\":[\"#636efa\",\"#EF553B\",\"#00cc96\",\"#ab63fa\",\"#FFA15A\",\"#19d3f3\",\"#FF6692\",\"#B6E880\",\"#FF97FF\",\"#FECB52\"],\"font\":{\"color\":\"#2a3f5f\"},\"hovermode\":\"closest\",\"hoverlabel\":{\"align\":\"left\"},\"paper_bgcolor\":\"white\",\"plot_bgcolor\":\"#E5ECF6\",\"polar\":{\"bgcolor\":\"#E5ECF6\",\"angularaxis\":{\"gridcolor\":\"white\",\"linecolor\":\"white\",\"ticks\":\"\"},\"radialaxis\":{\"gridcolor\":\"white\",\"linecolor\":\"white\",\"ticks\":\"\"}},\"ternary\":{\"bgcolor\":\"#E5ECF6\",\"aaxis\":{\"gridcolor\":\"white\",\"linecolor\":\"white\",\"ticks\":\"\"},\"baxis\":{\"gridcolor\":\"white\",\"linecolor\":\"white\",\"ticks\":\"\"},\"caxis\":{\"gridcolor\":\"white\",\"linecolor\":\"white\",\"ticks\":\"\"}},\"coloraxis\":{\"colorbar\":{\"outlinewidth\":0,\"ticks\":\"\"}},\"colorscale\":{\"sequential\":[[0.0,\"#0d0887\"],[0.1111111111111111,\"#46039f\"],[0.2222222222222222,\"#7201a8\"],[0.3333333333333333,\"#9c179e\"],[0.4444444444444444,\"#bd3786\"],[0.5555555555555556,\"#d8576b\"],[0.6666666666666666,\"#ed7953\"],[0.7777777777777778,\"#fb9f3a\"],[0.8888888888888888,\"#fdca26\"],[1.0,\"#f0f921\"]],\"sequentialminus\":[[0.0,\"#0d0887\"],[0.1111111111111111,\"#46039f\"],[0.2222222222222222,\"#7201a8\"],[0.3333333333333333,\"#9c179e\"],[0.4444444444444444,\"#bd3786\"],[0.5555555555555556,\"#d8576b\"],[0.6666666666666666,\"#ed7953\"],[0.7777777777777778,\"#fb9f3a\"],[0.8888888888888888,\"#fdca26\"],[1.0,\"#f0f921\"]],\"diverging\":[[0,\"#8e0152\"],[0.1,\"#c51b7d\"],[0.2,\"#de77ae\"],[0.3,\"#f1b6da\"],[0.4,\"#fde0ef\"],[0.5,\"#f7f7f7\"],[0.6,\"#e6f5d0\"],[0.7,\"#b8e186\"],[0.8,\"#7fbc41\"],[0.9,\"#4d9221\"],[1,\"#276419\"]]},\"xaxis\":{\"gridcolor\":\"white\",\"linecolor\":\"white\",\"ticks\":\"\",\"title\":{\"standoff\":15},\"zerolinecolor\":\"white\",\"automargin\":true,\"zerolinewidth\":2},\"yaxis\":{\"gridcolor\":\"white\",\"linecolor\":\"white\",\"ticks\":\"\",\"title\":{\"standoff\":15},\"zerolinecolor\":\"white\",\"automargin\":true,\"zerolinewidth\":2},\"scene\":{\"xaxis\":{\"backgroundcolor\":\"#E5ECF6\",\"gridcolor\":\"white\",\"linecolor\":\"white\",\"showbackground\":true,\"ticks\":\"\",\"zerolinecolor\":\"white\",\"gridwidth\":2},\"yaxis\":{\"backgroundcolor\":\"#E5ECF6\",\"gridcolor\":\"white\",\"linecolor\":\"white\",\"showbackground\":true,\"ticks\":\"\",\"zerolinecolor\":\"white\",\"gridwidth\":2},\"zaxis\":{\"backgroundcolor\":\"#E5ECF6\",\"gridcolor\":\"white\",\"linecolor\":\"white\",\"showbackground\":true,\"ticks\":\"\",\"zerolinecolor\":\"white\",\"gridwidth\":2}},\"shapedefaults\":{\"line\":{\"color\":\"#2a3f5f\"}},\"annotationdefaults\":{\"arrowcolor\":\"#2a3f5f\",\"arrowhead\":0,\"arrowwidth\":1},\"geo\":{\"bgcolor\":\"white\",\"landcolor\":\"#E5ECF6\",\"subunitcolor\":\"white\",\"showland\":true,\"showlakes\":true,\"lakecolor\":\"white\"},\"title\":{\"x\":0.05},\"mapbox\":{\"style\":\"light\"}}},\"xaxis\":{\"anchor\":\"y\",\"domain\":[0.0,1.0],\"title\":{\"text\":\"invoice_date\"}},\"yaxis\":{\"anchor\":\"x\",\"domain\":[0.0,1.0],\"title\":{\"text\":\"total_per_day\"}},\"legend\":{\"tracegroupgap\":0},\"margin\":{\"t\":60}},                        {\"responsive\": true}                    ).then(function(){\n",
              "                            \n",
              "var gd = document.getElementById('0e9f7e2a-b602-4a0e-ae93-23d811dab848');\n",
              "var x = new MutationObserver(function (mutations, observer) {{\n",
              "        var display = window.getComputedStyle(gd).display;\n",
              "        if (!display || display === 'none') {{\n",
              "            console.log([gd, 'removed!']);\n",
              "            Plotly.purge(gd);\n",
              "            observer.disconnect();\n",
              "        }}\n",
              "}});\n",
              "\n",
              "// Listen for the removal of the full notebook cells\n",
              "var notebookContainer = gd.closest('#notebook-container');\n",
              "if (notebookContainer) {{\n",
              "    x.observe(notebookContainer, {childList: true});\n",
              "}}\n",
              "\n",
              "// Listen for the clearing of the current output cell\n",
              "var outputEl = gd.closest('.output');\n",
              "if (outputEl) {{\n",
              "    x.observe(outputEl, {childList: true});\n",
              "}}\n",
              "\n",
              "                        })                };                            </script>        </div>\n",
              "</body>\n",
              "</html>"
            ]
          },
          "metadata": {}
        }
      ]
    },
    {
      "cell_type": "code",
      "source": [
        "df_transaction_count = df.groupBy(F.to_date('invoice_timestamp').alias('invoice_date'))\\\n",
        "                          .count().withColumnRenamed('count','transaction_count')\\\n",
        "                          .orderBy('invoice_date')\n",
        "df_transaction_count.show()"
      ],
      "metadata": {
        "colab": {
          "base_uri": "https://localhost:8080/"
        },
        "id": "W9tP0AHGs0W3",
        "outputId": "5c42ce48-a85d-4090-e0c1-b73d1b08408c"
      },
      "execution_count": 23,
      "outputs": [
        {
          "output_type": "stream",
          "name": "stdout",
          "text": [
            "+------------+-----------------+\n",
            "|invoice_date|transaction_count|\n",
            "+------------+-----------------+\n",
            "|  2010-12-01|             3108|\n",
            "|  2010-12-02|             2109|\n",
            "|  2010-12-03|             2202|\n",
            "|  2010-12-05|             2725|\n",
            "|  2010-12-06|             3878|\n",
            "|  2010-12-07|             2963|\n",
            "|  2010-12-08|             2647|\n",
            "|  2010-12-09|             2891|\n",
            "|  2010-12-10|             2758|\n",
            "|  2010-12-12|             1451|\n",
            "|  2010-12-13|             2283|\n",
            "|  2010-12-14|             2087|\n",
            "|  2010-12-15|             1349|\n",
            "|  2010-12-16|             1790|\n",
            "|  2010-12-17|             3115|\n",
            "|  2010-12-19|              522|\n",
            "|  2010-12-20|             1763|\n",
            "|  2010-12-21|             1586|\n",
            "|  2010-12-22|              291|\n",
            "|  2010-12-23|              963|\n",
            "+------------+-----------------+\n",
            "only showing top 20 rows\n",
            "\n"
          ]
        }
      ]
    },
    {
      "cell_type": "code",
      "source": [
        "pandas_df_transaction_count = df_transaction_count.toPandas()\n",
        "px.bar(pandas_df_transaction_count, x='invoice_date', y='transaction_count', title='Daily Sales Transaction Amount').show()"
      ],
      "metadata": {
        "colab": {
          "base_uri": "https://localhost:8080/",
          "height": 542
        },
        "id": "n1USq7uhs2vn",
        "outputId": "a6cf85ad-60d6-476a-f06b-9df7b2729154"
      },
      "execution_count": 24,
      "outputs": [
        {
          "output_type": "display_data",
          "data": {
            "text/html": [
              "<html>\n",
              "<head><meta charset=\"utf-8\" /></head>\n",
              "<body>\n",
              "    <div>            <script src=\"https://cdnjs.cloudflare.com/ajax/libs/mathjax/2.7.5/MathJax.js?config=TeX-AMS-MML_SVG\"></script><script type=\"text/javascript\">if (window.MathJax && window.MathJax.Hub && window.MathJax.Hub.Config) {window.MathJax.Hub.Config({SVG: {font: \"STIX-Web\"}});}</script>                <script type=\"text/javascript\">window.PlotlyConfig = {MathJaxConfig: 'local'};</script>\n",
              "        <script charset=\"utf-8\" src=\"https://cdn.plot.ly/plotly-2.24.1.min.js\"></script>                <div id=\"5f4b82be-aff8-44d2-9244-fcb1810495b6\" class=\"plotly-graph-div\" style=\"height:525px; width:100%;\"></div>            <script type=\"text/javascript\">                                    window.PLOTLYENV=window.PLOTLYENV || {};                                    if (document.getElementById(\"5f4b82be-aff8-44d2-9244-fcb1810495b6\")) {                    Plotly.newPlot(                        \"5f4b82be-aff8-44d2-9244-fcb1810495b6\",                        [{\"alignmentgroup\":\"True\",\"hovertemplate\":\"invoice_date=%{x}\\u003cbr\\u003etransaction_count=%{y}\\u003cextra\\u003e\\u003c\\u002fextra\\u003e\",\"legendgroup\":\"\",\"marker\":{\"color\":\"#636efa\",\"pattern\":{\"shape\":\"\"}},\"name\":\"\",\"offsetgroup\":\"\",\"orientation\":\"v\",\"showlegend\":false,\"textposition\":\"auto\",\"x\":[\"2010-12-01\",\"2010-12-02\",\"2010-12-03\",\"2010-12-05\",\"2010-12-06\",\"2010-12-07\",\"2010-12-08\",\"2010-12-09\",\"2010-12-10\",\"2010-12-12\",\"2010-12-13\",\"2010-12-14\",\"2010-12-15\",\"2010-12-16\",\"2010-12-17\",\"2010-12-19\",\"2010-12-20\",\"2010-12-21\",\"2010-12-22\",\"2010-12-23\",\"2011-01-04\",\"2011-01-05\",\"2011-01-06\",\"2011-01-07\",\"2011-01-09\",\"2011-01-10\",\"2011-01-11\",\"2011-01-12\",\"2011-01-13\",\"2011-01-14\",\"2011-01-16\",\"2011-01-17\",\"2011-01-18\",\"2011-01-19\",\"2011-01-20\",\"2011-01-21\",\"2011-01-23\",\"2011-01-24\",\"2011-01-25\",\"2011-01-26\",\"2011-01-27\",\"2011-01-28\",\"2011-01-30\",\"2011-01-31\",\"2011-02-01\",\"2011-02-02\",\"2011-02-03\",\"2011-02-04\",\"2011-02-06\",\"2011-02-07\",\"2011-02-08\",\"2011-02-09\",\"2011-02-10\",\"2011-02-11\",\"2011-02-13\",\"2011-02-14\",\"2011-02-15\",\"2011-02-16\",\"2011-02-17\",\"2011-02-18\",\"2011-02-20\",\"2011-02-21\",\"2011-02-22\",\"2011-02-23\",\"2011-02-24\",\"2011-02-25\",\"2011-02-27\",\"2011-02-28\",\"2011-03-01\",\"2011-03-02\",\"2011-03-03\",\"2011-03-04\",\"2011-03-06\",\"2011-03-07\",\"2011-03-08\",\"2011-03-09\",\"2011-03-10\",\"2011-03-11\",\"2011-03-13\",\"2011-03-14\",\"2011-03-15\",\"2011-03-16\",\"2011-03-17\",\"2011-03-18\",\"2011-03-20\",\"2011-03-21\",\"2011-03-22\",\"2011-03-23\",\"2011-03-24\",\"2011-03-25\",\"2011-03-27\",\"2011-03-28\",\"2011-03-29\",\"2011-03-30\",\"2011-03-31\",\"2011-04-01\",\"2011-04-03\",\"2011-04-04\",\"2011-04-05\",\"2011-04-06\",\"2011-04-07\",\"2011-04-08\",\"2011-04-10\",\"2011-04-11\",\"2011-04-12\",\"2011-04-13\",\"2011-04-14\",\"2011-04-15\",\"2011-04-17\",\"2011-04-18\",\"2011-04-19\",\"2011-04-20\",\"2011-04-21\",\"2011-04-26\",\"2011-04-27\",\"2011-04-28\",\"2011-05-01\",\"2011-05-03\",\"2011-05-04\",\"2011-05-05\",\"2011-05-06\",\"2011-05-08\",\"2011-05-09\",\"2011-05-10\",\"2011-05-11\",\"2011-05-12\",\"2011-05-13\",\"2011-05-15\",\"2011-05-16\",\"2011-05-17\",\"2011-05-18\",\"2011-05-19\",\"2011-05-20\",\"2011-05-22\",\"2011-05-23\",\"2011-05-24\",\"2011-05-25\",\"2011-05-26\",\"2011-05-27\",\"2011-05-29\",\"2011-05-31\",\"2011-06-01\",\"2011-06-02\",\"2011-06-03\",\"2011-06-05\",\"2011-06-06\",\"2011-06-07\",\"2011-06-08\",\"2011-06-09\",\"2011-06-10\",\"2011-06-12\",\"2011-06-13\",\"2011-06-14\",\"2011-06-15\",\"2011-06-16\",\"2011-06-17\",\"2011-06-19\",\"2011-06-20\",\"2011-06-21\",\"2011-06-22\",\"2011-06-23\",\"2011-06-24\",\"2011-06-26\",\"2011-06-27\",\"2011-06-28\",\"2011-06-29\",\"2011-06-30\",\"2011-07-01\",\"2011-07-03\",\"2011-07-04\",\"2011-07-05\",\"2011-07-06\",\"2011-07-07\",\"2011-07-08\",\"2011-07-10\",\"2011-07-11\",\"2011-07-12\",\"2011-07-13\",\"2011-07-14\",\"2011-07-15\",\"2011-07-17\",\"2011-07-18\",\"2011-07-19\",\"2011-07-20\",\"2011-07-21\",\"2011-07-22\",\"2011-07-24\",\"2011-07-25\",\"2011-07-26\",\"2011-07-27\",\"2011-07-28\",\"2011-07-29\",\"2011-07-31\",\"2011-08-01\",\"2011-08-02\",\"2011-08-03\",\"2011-08-04\",\"2011-08-05\",\"2011-08-07\",\"2011-08-08\",\"2011-08-09\",\"2011-08-10\",\"2011-08-11\",\"2011-08-12\",\"2011-08-14\",\"2011-08-15\",\"2011-08-16\",\"2011-08-17\",\"2011-08-18\",\"2011-08-19\",\"2011-08-21\",\"2011-08-22\",\"2011-08-23\",\"2011-08-24\",\"2011-08-25\",\"2011-08-26\",\"2011-08-28\",\"2011-08-30\",\"2011-08-31\",\"2011-09-01\",\"2011-09-02\",\"2011-09-04\",\"2011-09-05\",\"2011-09-06\",\"2011-09-07\",\"2011-09-08\",\"2011-09-09\",\"2011-09-11\",\"2011-09-12\",\"2011-09-13\",\"2011-09-14\",\"2011-09-15\",\"2011-09-16\",\"2011-09-18\",\"2011-09-19\",\"2011-09-20\",\"2011-09-21\",\"2011-09-22\",\"2011-09-23\",\"2011-09-25\",\"2011-09-26\",\"2011-09-27\",\"2011-09-28\",\"2011-09-29\",\"2011-09-30\",\"2011-10-02\",\"2011-10-03\",\"2011-10-04\",\"2011-10-05\",\"2011-10-06\",\"2011-10-07\",\"2011-10-09\",\"2011-10-10\",\"2011-10-11\",\"2011-10-12\",\"2011-10-13\",\"2011-10-14\",\"2011-10-16\",\"2011-10-17\",\"2011-10-18\",\"2011-10-19\",\"2011-10-20\",\"2011-10-21\",\"2011-10-23\",\"2011-10-24\",\"2011-10-25\",\"2011-10-26\",\"2011-10-27\",\"2011-10-28\",\"2011-10-30\",\"2011-10-31\",\"2011-11-01\",\"2011-11-02\",\"2011-11-03\",\"2011-11-04\",\"2011-11-06\",\"2011-11-07\",\"2011-11-08\",\"2011-11-09\",\"2011-11-10\",\"2011-11-11\",\"2011-11-13\",\"2011-11-14\",\"2011-11-15\",\"2011-11-16\",\"2011-11-17\",\"2011-11-18\",\"2011-11-20\",\"2011-11-21\",\"2011-11-22\",\"2011-11-23\",\"2011-11-24\",\"2011-11-25\",\"2011-11-27\",\"2011-11-28\",\"2011-11-29\",\"2011-11-30\",\"2011-12-01\",\"2011-12-02\",\"2011-12-04\",\"2011-12-05\",\"2011-12-06\",\"2011-12-07\",\"2011-12-08\",\"2011-12-09\"],\"xaxis\":\"x\",\"y\":[3108,2109,2202,2725,3878,2963,2647,2891,2758,1451,2283,2087,1349,1790,3115,522,1763,1586,291,963,1184,1743,1832,1794,1117,1976,1454,1809,1445,1510,646,2557,1447,1416,1502,1594,879,1485,1654,1289,1575,1008,722,1509,1574,1411,989,1232,279,1261,1228,879,785,957,624,1108,1335,1191,1719,854,864,1425,1593,1578,1294,978,812,1737,1361,935,1389,1107,844,1971,1600,1277,1131,959,537,1111,1292,874,2074,1379,1453,1068,2384,1319,1577,1386,737,1672,1983,1590,1738,1261,731,1705,1215,1122,1527,1441,940,1259,1152,1052,1608,1483,968,3208,1887,1025,1930,1903,1307,1192,452,1449,1161,1838,2051,1506,1766,2586,1701,1965,1425,809,1609,1932,1366,1949,1129,1564,1646,1750,1322,971,1170,632,1281,1456,1588,858,1561,1229,1926,2327,1850,1067,1075,1472,1587,1718,1534,961,1167,2020,1538,1017,1973,1039,708,1182,1043,1358,1620,1027,602,2200,2202,1816,1940,1630,820,1515,1667,1618,1734,1136,1248,2234,1667,2015,1570,1301,1125,1946,1279,1259,1565,1131,1271,1200,1369,1560,1839,1455,541,1490,1119,1376,1984,1122,557,926,1035,1666,1539,819,1070,1272,1458,1876,1342,929,1200,3235,1305,1405,2376,1343,1587,1140,2112,1779,1607,2032,1702,2438,1376,2197,1475,1274,1436,1718,3129,2748,2642,1987,1554,1897,2877,2508,1887,1429,2296,2797,2447,3189,2426,1292,3232,2467,2193,2358,1810,1254,2944,2908,2318,2350,1404,1728,2976,2492,1930,2540,1641,2907,3414,1786,2632,2419,3011,3437,2099,4070,2716,3275,4089,3018,3597,3445,4195,3621,2920,3334,2930,3967,3619,3766,3125,2543,3330,4313,3454,2901,2880,2038,5331,3365,2438,4940,1632],\"yaxis\":\"y\",\"type\":\"bar\"}],                        {\"template\":{\"data\":{\"histogram2dcontour\":[{\"type\":\"histogram2dcontour\",\"colorbar\":{\"outlinewidth\":0,\"ticks\":\"\"},\"colorscale\":[[0.0,\"#0d0887\"],[0.1111111111111111,\"#46039f\"],[0.2222222222222222,\"#7201a8\"],[0.3333333333333333,\"#9c179e\"],[0.4444444444444444,\"#bd3786\"],[0.5555555555555556,\"#d8576b\"],[0.6666666666666666,\"#ed7953\"],[0.7777777777777778,\"#fb9f3a\"],[0.8888888888888888,\"#fdca26\"],[1.0,\"#f0f921\"]]}],\"choropleth\":[{\"type\":\"choropleth\",\"colorbar\":{\"outlinewidth\":0,\"ticks\":\"\"}}],\"histogram2d\":[{\"type\":\"histogram2d\",\"colorbar\":{\"outlinewidth\":0,\"ticks\":\"\"},\"colorscale\":[[0.0,\"#0d0887\"],[0.1111111111111111,\"#46039f\"],[0.2222222222222222,\"#7201a8\"],[0.3333333333333333,\"#9c179e\"],[0.4444444444444444,\"#bd3786\"],[0.5555555555555556,\"#d8576b\"],[0.6666666666666666,\"#ed7953\"],[0.7777777777777778,\"#fb9f3a\"],[0.8888888888888888,\"#fdca26\"],[1.0,\"#f0f921\"]]}],\"heatmap\":[{\"type\":\"heatmap\",\"colorbar\":{\"outlinewidth\":0,\"ticks\":\"\"},\"colorscale\":[[0.0,\"#0d0887\"],[0.1111111111111111,\"#46039f\"],[0.2222222222222222,\"#7201a8\"],[0.3333333333333333,\"#9c179e\"],[0.4444444444444444,\"#bd3786\"],[0.5555555555555556,\"#d8576b\"],[0.6666666666666666,\"#ed7953\"],[0.7777777777777778,\"#fb9f3a\"],[0.8888888888888888,\"#fdca26\"],[1.0,\"#f0f921\"]]}],\"heatmapgl\":[{\"type\":\"heatmapgl\",\"colorbar\":{\"outlinewidth\":0,\"ticks\":\"\"},\"colorscale\":[[0.0,\"#0d0887\"],[0.1111111111111111,\"#46039f\"],[0.2222222222222222,\"#7201a8\"],[0.3333333333333333,\"#9c179e\"],[0.4444444444444444,\"#bd3786\"],[0.5555555555555556,\"#d8576b\"],[0.6666666666666666,\"#ed7953\"],[0.7777777777777778,\"#fb9f3a\"],[0.8888888888888888,\"#fdca26\"],[1.0,\"#f0f921\"]]}],\"contourcarpet\":[{\"type\":\"contourcarpet\",\"colorbar\":{\"outlinewidth\":0,\"ticks\":\"\"}}],\"contour\":[{\"type\":\"contour\",\"colorbar\":{\"outlinewidth\":0,\"ticks\":\"\"},\"colorscale\":[[0.0,\"#0d0887\"],[0.1111111111111111,\"#46039f\"],[0.2222222222222222,\"#7201a8\"],[0.3333333333333333,\"#9c179e\"],[0.4444444444444444,\"#bd3786\"],[0.5555555555555556,\"#d8576b\"],[0.6666666666666666,\"#ed7953\"],[0.7777777777777778,\"#fb9f3a\"],[0.8888888888888888,\"#fdca26\"],[1.0,\"#f0f921\"]]}],\"surface\":[{\"type\":\"surface\",\"colorbar\":{\"outlinewidth\":0,\"ticks\":\"\"},\"colorscale\":[[0.0,\"#0d0887\"],[0.1111111111111111,\"#46039f\"],[0.2222222222222222,\"#7201a8\"],[0.3333333333333333,\"#9c179e\"],[0.4444444444444444,\"#bd3786\"],[0.5555555555555556,\"#d8576b\"],[0.6666666666666666,\"#ed7953\"],[0.7777777777777778,\"#fb9f3a\"],[0.8888888888888888,\"#fdca26\"],[1.0,\"#f0f921\"]]}],\"mesh3d\":[{\"type\":\"mesh3d\",\"colorbar\":{\"outlinewidth\":0,\"ticks\":\"\"}}],\"scatter\":[{\"fillpattern\":{\"fillmode\":\"overlay\",\"size\":10,\"solidity\":0.2},\"type\":\"scatter\"}],\"parcoords\":[{\"type\":\"parcoords\",\"line\":{\"colorbar\":{\"outlinewidth\":0,\"ticks\":\"\"}}}],\"scatterpolargl\":[{\"type\":\"scatterpolargl\",\"marker\":{\"colorbar\":{\"outlinewidth\":0,\"ticks\":\"\"}}}],\"bar\":[{\"error_x\":{\"color\":\"#2a3f5f\"},\"error_y\":{\"color\":\"#2a3f5f\"},\"marker\":{\"line\":{\"color\":\"#E5ECF6\",\"width\":0.5},\"pattern\":{\"fillmode\":\"overlay\",\"size\":10,\"solidity\":0.2}},\"type\":\"bar\"}],\"scattergeo\":[{\"type\":\"scattergeo\",\"marker\":{\"colorbar\":{\"outlinewidth\":0,\"ticks\":\"\"}}}],\"scatterpolar\":[{\"type\":\"scatterpolar\",\"marker\":{\"colorbar\":{\"outlinewidth\":0,\"ticks\":\"\"}}}],\"histogram\":[{\"marker\":{\"pattern\":{\"fillmode\":\"overlay\",\"size\":10,\"solidity\":0.2}},\"type\":\"histogram\"}],\"scattergl\":[{\"type\":\"scattergl\",\"marker\":{\"colorbar\":{\"outlinewidth\":0,\"ticks\":\"\"}}}],\"scatter3d\":[{\"type\":\"scatter3d\",\"line\":{\"colorbar\":{\"outlinewidth\":0,\"ticks\":\"\"}},\"marker\":{\"colorbar\":{\"outlinewidth\":0,\"ticks\":\"\"}}}],\"scattermapbox\":[{\"type\":\"scattermapbox\",\"marker\":{\"colorbar\":{\"outlinewidth\":0,\"ticks\":\"\"}}}],\"scatterternary\":[{\"type\":\"scatterternary\",\"marker\":{\"colorbar\":{\"outlinewidth\":0,\"ticks\":\"\"}}}],\"scattercarpet\":[{\"type\":\"scattercarpet\",\"marker\":{\"colorbar\":{\"outlinewidth\":0,\"ticks\":\"\"}}}],\"carpet\":[{\"aaxis\":{\"endlinecolor\":\"#2a3f5f\",\"gridcolor\":\"white\",\"linecolor\":\"white\",\"minorgridcolor\":\"white\",\"startlinecolor\":\"#2a3f5f\"},\"baxis\":{\"endlinecolor\":\"#2a3f5f\",\"gridcolor\":\"white\",\"linecolor\":\"white\",\"minorgridcolor\":\"white\",\"startlinecolor\":\"#2a3f5f\"},\"type\":\"carpet\"}],\"table\":[{\"cells\":{\"fill\":{\"color\":\"#EBF0F8\"},\"line\":{\"color\":\"white\"}},\"header\":{\"fill\":{\"color\":\"#C8D4E3\"},\"line\":{\"color\":\"white\"}},\"type\":\"table\"}],\"barpolar\":[{\"marker\":{\"line\":{\"color\":\"#E5ECF6\",\"width\":0.5},\"pattern\":{\"fillmode\":\"overlay\",\"size\":10,\"solidity\":0.2}},\"type\":\"barpolar\"}],\"pie\":[{\"automargin\":true,\"type\":\"pie\"}]},\"layout\":{\"autotypenumbers\":\"strict\",\"colorway\":[\"#636efa\",\"#EF553B\",\"#00cc96\",\"#ab63fa\",\"#FFA15A\",\"#19d3f3\",\"#FF6692\",\"#B6E880\",\"#FF97FF\",\"#FECB52\"],\"font\":{\"color\":\"#2a3f5f\"},\"hovermode\":\"closest\",\"hoverlabel\":{\"align\":\"left\"},\"paper_bgcolor\":\"white\",\"plot_bgcolor\":\"#E5ECF6\",\"polar\":{\"bgcolor\":\"#E5ECF6\",\"angularaxis\":{\"gridcolor\":\"white\",\"linecolor\":\"white\",\"ticks\":\"\"},\"radialaxis\":{\"gridcolor\":\"white\",\"linecolor\":\"white\",\"ticks\":\"\"}},\"ternary\":{\"bgcolor\":\"#E5ECF6\",\"aaxis\":{\"gridcolor\":\"white\",\"linecolor\":\"white\",\"ticks\":\"\"},\"baxis\":{\"gridcolor\":\"white\",\"linecolor\":\"white\",\"ticks\":\"\"},\"caxis\":{\"gridcolor\":\"white\",\"linecolor\":\"white\",\"ticks\":\"\"}},\"coloraxis\":{\"colorbar\":{\"outlinewidth\":0,\"ticks\":\"\"}},\"colorscale\":{\"sequential\":[[0.0,\"#0d0887\"],[0.1111111111111111,\"#46039f\"],[0.2222222222222222,\"#7201a8\"],[0.3333333333333333,\"#9c179e\"],[0.4444444444444444,\"#bd3786\"],[0.5555555555555556,\"#d8576b\"],[0.6666666666666666,\"#ed7953\"],[0.7777777777777778,\"#fb9f3a\"],[0.8888888888888888,\"#fdca26\"],[1.0,\"#f0f921\"]],\"sequentialminus\":[[0.0,\"#0d0887\"],[0.1111111111111111,\"#46039f\"],[0.2222222222222222,\"#7201a8\"],[0.3333333333333333,\"#9c179e\"],[0.4444444444444444,\"#bd3786\"],[0.5555555555555556,\"#d8576b\"],[0.6666666666666666,\"#ed7953\"],[0.7777777777777778,\"#fb9f3a\"],[0.8888888888888888,\"#fdca26\"],[1.0,\"#f0f921\"]],\"diverging\":[[0,\"#8e0152\"],[0.1,\"#c51b7d\"],[0.2,\"#de77ae\"],[0.3,\"#f1b6da\"],[0.4,\"#fde0ef\"],[0.5,\"#f7f7f7\"],[0.6,\"#e6f5d0\"],[0.7,\"#b8e186\"],[0.8,\"#7fbc41\"],[0.9,\"#4d9221\"],[1,\"#276419\"]]},\"xaxis\":{\"gridcolor\":\"white\",\"linecolor\":\"white\",\"ticks\":\"\",\"title\":{\"standoff\":15},\"zerolinecolor\":\"white\",\"automargin\":true,\"zerolinewidth\":2},\"yaxis\":{\"gridcolor\":\"white\",\"linecolor\":\"white\",\"ticks\":\"\",\"title\":{\"standoff\":15},\"zerolinecolor\":\"white\",\"automargin\":true,\"zerolinewidth\":2},\"scene\":{\"xaxis\":{\"backgroundcolor\":\"#E5ECF6\",\"gridcolor\":\"white\",\"linecolor\":\"white\",\"showbackground\":true,\"ticks\":\"\",\"zerolinecolor\":\"white\",\"gridwidth\":2},\"yaxis\":{\"backgroundcolor\":\"#E5ECF6\",\"gridcolor\":\"white\",\"linecolor\":\"white\",\"showbackground\":true,\"ticks\":\"\",\"zerolinecolor\":\"white\",\"gridwidth\":2},\"zaxis\":{\"backgroundcolor\":\"#E5ECF6\",\"gridcolor\":\"white\",\"linecolor\":\"white\",\"showbackground\":true,\"ticks\":\"\",\"zerolinecolor\":\"white\",\"gridwidth\":2}},\"shapedefaults\":{\"line\":{\"color\":\"#2a3f5f\"}},\"annotationdefaults\":{\"arrowcolor\":\"#2a3f5f\",\"arrowhead\":0,\"arrowwidth\":1},\"geo\":{\"bgcolor\":\"white\",\"landcolor\":\"#E5ECF6\",\"subunitcolor\":\"white\",\"showland\":true,\"showlakes\":true,\"lakecolor\":\"white\"},\"title\":{\"x\":0.05},\"mapbox\":{\"style\":\"light\"}}},\"xaxis\":{\"anchor\":\"y\",\"domain\":[0.0,1.0],\"title\":{\"text\":\"invoice_date\"}},\"yaxis\":{\"anchor\":\"x\",\"domain\":[0.0,1.0],\"title\":{\"text\":\"transaction_count\"}},\"legend\":{\"tracegroupgap\":0},\"title\":{\"text\":\"Daily Sales Transaction Amount\"},\"barmode\":\"relative\"},                        {\"responsive\": true}                    ).then(function(){\n",
              "                            \n",
              "var gd = document.getElementById('5f4b82be-aff8-44d2-9244-fcb1810495b6');\n",
              "var x = new MutationObserver(function (mutations, observer) {{\n",
              "        var display = window.getComputedStyle(gd).display;\n",
              "        if (!display || display === 'none') {{\n",
              "            console.log([gd, 'removed!']);\n",
              "            Plotly.purge(gd);\n",
              "            observer.disconnect();\n",
              "        }}\n",
              "}});\n",
              "\n",
              "// Listen for the removal of the full notebook cells\n",
              "var notebookContainer = gd.closest('#notebook-container');\n",
              "if (notebookContainer) {{\n",
              "    x.observe(notebookContainer, {childList: true});\n",
              "}}\n",
              "\n",
              "// Listen for the clearing of the current output cell\n",
              "var outputEl = gd.closest('.output');\n",
              "if (outputEl) {{\n",
              "    x.observe(outputEl, {childList: true});\n",
              "}}\n",
              "\n",
              "                        })                };                            </script>        </div>\n",
              "</body>\n",
              "</html>"
            ]
          },
          "metadata": {}
        }
      ]
    },
    {
      "cell_type": "code",
      "source": [
        "df_transaction_hourly = df.groupBy(F.date_format('invoice_timestamp', 'H').cast(IntegerType()).alias('transaction_hour'))\\\n",
        "                          .count().withColumnRenamed('count','transaction_count')\\\n",
        "                          .orderBy('transaction_hour')\n",
        "df_transaction_hourly.show()"
      ],
      "metadata": {
        "colab": {
          "base_uri": "https://localhost:8080/"
        },
        "id": "bujn1V47s-nh",
        "outputId": "c8fd7018-0b42-42ee-b463-05892cbb4ce0"
      },
      "execution_count": 25,
      "outputs": [
        {
          "output_type": "stream",
          "name": "stdout",
          "text": [
            "+----------------+-----------------+\n",
            "|transaction_hour|transaction_count|\n",
            "+----------------+-----------------+\n",
            "|               6|               41|\n",
            "|               7|              383|\n",
            "|               8|             8909|\n",
            "|               9|            34332|\n",
            "|              10|            49037|\n",
            "|              11|            57674|\n",
            "|              12|            78709|\n",
            "|              13|            72259|\n",
            "|              14|            67471|\n",
            "|              15|            77519|\n",
            "|              16|            54516|\n",
            "|              17|            28509|\n",
            "|              18|             7974|\n",
            "|              19|             3705|\n",
            "|              20|              871|\n",
            "+----------------+-----------------+\n",
            "\n"
          ]
        }
      ]
    },
    {
      "cell_type": "code",
      "source": [
        "pandas_df_transaction_hourly = df_transaction_hourly.toPandas()\n",
        "px.bar(pandas_df_transaction_hourly, x='transaction_hour', y='transaction_count', title='Hourly Sales Transaction Amount').show()"
      ],
      "metadata": {
        "colab": {
          "base_uri": "https://localhost:8080/",
          "height": 542
        },
        "id": "OwhVsvSxtBGZ",
        "outputId": "cacfc9d1-90ca-4a23-d7db-15e26d9d8ef8"
      },
      "execution_count": 26,
      "outputs": [
        {
          "output_type": "display_data",
          "data": {
            "text/html": [
              "<html>\n",
              "<head><meta charset=\"utf-8\" /></head>\n",
              "<body>\n",
              "    <div>            <script src=\"https://cdnjs.cloudflare.com/ajax/libs/mathjax/2.7.5/MathJax.js?config=TeX-AMS-MML_SVG\"></script><script type=\"text/javascript\">if (window.MathJax && window.MathJax.Hub && window.MathJax.Hub.Config) {window.MathJax.Hub.Config({SVG: {font: \"STIX-Web\"}});}</script>                <script type=\"text/javascript\">window.PlotlyConfig = {MathJaxConfig: 'local'};</script>\n",
              "        <script charset=\"utf-8\" src=\"https://cdn.plot.ly/plotly-2.24.1.min.js\"></script>                <div id=\"afbecd08-cc32-47f9-844f-f9bd7198adf4\" class=\"plotly-graph-div\" style=\"height:525px; width:100%;\"></div>            <script type=\"text/javascript\">                                    window.PLOTLYENV=window.PLOTLYENV || {};                                    if (document.getElementById(\"afbecd08-cc32-47f9-844f-f9bd7198adf4\")) {                    Plotly.newPlot(                        \"afbecd08-cc32-47f9-844f-f9bd7198adf4\",                        [{\"alignmentgroup\":\"True\",\"hovertemplate\":\"transaction_hour=%{x}\\u003cbr\\u003etransaction_count=%{y}\\u003cextra\\u003e\\u003c\\u002fextra\\u003e\",\"legendgroup\":\"\",\"marker\":{\"color\":\"#636efa\",\"pattern\":{\"shape\":\"\"}},\"name\":\"\",\"offsetgroup\":\"\",\"orientation\":\"v\",\"showlegend\":false,\"textposition\":\"auto\",\"x\":[6,7,8,9,10,11,12,13,14,15,16,17,18,19,20],\"xaxis\":\"x\",\"y\":[41,383,8909,34332,49037,57674,78709,72259,67471,77519,54516,28509,7974,3705,871],\"yaxis\":\"y\",\"type\":\"bar\"}],                        {\"template\":{\"data\":{\"histogram2dcontour\":[{\"type\":\"histogram2dcontour\",\"colorbar\":{\"outlinewidth\":0,\"ticks\":\"\"},\"colorscale\":[[0.0,\"#0d0887\"],[0.1111111111111111,\"#46039f\"],[0.2222222222222222,\"#7201a8\"],[0.3333333333333333,\"#9c179e\"],[0.4444444444444444,\"#bd3786\"],[0.5555555555555556,\"#d8576b\"],[0.6666666666666666,\"#ed7953\"],[0.7777777777777778,\"#fb9f3a\"],[0.8888888888888888,\"#fdca26\"],[1.0,\"#f0f921\"]]}],\"choropleth\":[{\"type\":\"choropleth\",\"colorbar\":{\"outlinewidth\":0,\"ticks\":\"\"}}],\"histogram2d\":[{\"type\":\"histogram2d\",\"colorbar\":{\"outlinewidth\":0,\"ticks\":\"\"},\"colorscale\":[[0.0,\"#0d0887\"],[0.1111111111111111,\"#46039f\"],[0.2222222222222222,\"#7201a8\"],[0.3333333333333333,\"#9c179e\"],[0.4444444444444444,\"#bd3786\"],[0.5555555555555556,\"#d8576b\"],[0.6666666666666666,\"#ed7953\"],[0.7777777777777778,\"#fb9f3a\"],[0.8888888888888888,\"#fdca26\"],[1.0,\"#f0f921\"]]}],\"heatmap\":[{\"type\":\"heatmap\",\"colorbar\":{\"outlinewidth\":0,\"ticks\":\"\"},\"colorscale\":[[0.0,\"#0d0887\"],[0.1111111111111111,\"#46039f\"],[0.2222222222222222,\"#7201a8\"],[0.3333333333333333,\"#9c179e\"],[0.4444444444444444,\"#bd3786\"],[0.5555555555555556,\"#d8576b\"],[0.6666666666666666,\"#ed7953\"],[0.7777777777777778,\"#fb9f3a\"],[0.8888888888888888,\"#fdca26\"],[1.0,\"#f0f921\"]]}],\"heatmapgl\":[{\"type\":\"heatmapgl\",\"colorbar\":{\"outlinewidth\":0,\"ticks\":\"\"},\"colorscale\":[[0.0,\"#0d0887\"],[0.1111111111111111,\"#46039f\"],[0.2222222222222222,\"#7201a8\"],[0.3333333333333333,\"#9c179e\"],[0.4444444444444444,\"#bd3786\"],[0.5555555555555556,\"#d8576b\"],[0.6666666666666666,\"#ed7953\"],[0.7777777777777778,\"#fb9f3a\"],[0.8888888888888888,\"#fdca26\"],[1.0,\"#f0f921\"]]}],\"contourcarpet\":[{\"type\":\"contourcarpet\",\"colorbar\":{\"outlinewidth\":0,\"ticks\":\"\"}}],\"contour\":[{\"type\":\"contour\",\"colorbar\":{\"outlinewidth\":0,\"ticks\":\"\"},\"colorscale\":[[0.0,\"#0d0887\"],[0.1111111111111111,\"#46039f\"],[0.2222222222222222,\"#7201a8\"],[0.3333333333333333,\"#9c179e\"],[0.4444444444444444,\"#bd3786\"],[0.5555555555555556,\"#d8576b\"],[0.6666666666666666,\"#ed7953\"],[0.7777777777777778,\"#fb9f3a\"],[0.8888888888888888,\"#fdca26\"],[1.0,\"#f0f921\"]]}],\"surface\":[{\"type\":\"surface\",\"colorbar\":{\"outlinewidth\":0,\"ticks\":\"\"},\"colorscale\":[[0.0,\"#0d0887\"],[0.1111111111111111,\"#46039f\"],[0.2222222222222222,\"#7201a8\"],[0.3333333333333333,\"#9c179e\"],[0.4444444444444444,\"#bd3786\"],[0.5555555555555556,\"#d8576b\"],[0.6666666666666666,\"#ed7953\"],[0.7777777777777778,\"#fb9f3a\"],[0.8888888888888888,\"#fdca26\"],[1.0,\"#f0f921\"]]}],\"mesh3d\":[{\"type\":\"mesh3d\",\"colorbar\":{\"outlinewidth\":0,\"ticks\":\"\"}}],\"scatter\":[{\"fillpattern\":{\"fillmode\":\"overlay\",\"size\":10,\"solidity\":0.2},\"type\":\"scatter\"}],\"parcoords\":[{\"type\":\"parcoords\",\"line\":{\"colorbar\":{\"outlinewidth\":0,\"ticks\":\"\"}}}],\"scatterpolargl\":[{\"type\":\"scatterpolargl\",\"marker\":{\"colorbar\":{\"outlinewidth\":0,\"ticks\":\"\"}}}],\"bar\":[{\"error_x\":{\"color\":\"#2a3f5f\"},\"error_y\":{\"color\":\"#2a3f5f\"},\"marker\":{\"line\":{\"color\":\"#E5ECF6\",\"width\":0.5},\"pattern\":{\"fillmode\":\"overlay\",\"size\":10,\"solidity\":0.2}},\"type\":\"bar\"}],\"scattergeo\":[{\"type\":\"scattergeo\",\"marker\":{\"colorbar\":{\"outlinewidth\":0,\"ticks\":\"\"}}}],\"scatterpolar\":[{\"type\":\"scatterpolar\",\"marker\":{\"colorbar\":{\"outlinewidth\":0,\"ticks\":\"\"}}}],\"histogram\":[{\"marker\":{\"pattern\":{\"fillmode\":\"overlay\",\"size\":10,\"solidity\":0.2}},\"type\":\"histogram\"}],\"scattergl\":[{\"type\":\"scattergl\",\"marker\":{\"colorbar\":{\"outlinewidth\":0,\"ticks\":\"\"}}}],\"scatter3d\":[{\"type\":\"scatter3d\",\"line\":{\"colorbar\":{\"outlinewidth\":0,\"ticks\":\"\"}},\"marker\":{\"colorbar\":{\"outlinewidth\":0,\"ticks\":\"\"}}}],\"scattermapbox\":[{\"type\":\"scattermapbox\",\"marker\":{\"colorbar\":{\"outlinewidth\":0,\"ticks\":\"\"}}}],\"scatterternary\":[{\"type\":\"scatterternary\",\"marker\":{\"colorbar\":{\"outlinewidth\":0,\"ticks\":\"\"}}}],\"scattercarpet\":[{\"type\":\"scattercarpet\",\"marker\":{\"colorbar\":{\"outlinewidth\":0,\"ticks\":\"\"}}}],\"carpet\":[{\"aaxis\":{\"endlinecolor\":\"#2a3f5f\",\"gridcolor\":\"white\",\"linecolor\":\"white\",\"minorgridcolor\":\"white\",\"startlinecolor\":\"#2a3f5f\"},\"baxis\":{\"endlinecolor\":\"#2a3f5f\",\"gridcolor\":\"white\",\"linecolor\":\"white\",\"minorgridcolor\":\"white\",\"startlinecolor\":\"#2a3f5f\"},\"type\":\"carpet\"}],\"table\":[{\"cells\":{\"fill\":{\"color\":\"#EBF0F8\"},\"line\":{\"color\":\"white\"}},\"header\":{\"fill\":{\"color\":\"#C8D4E3\"},\"line\":{\"color\":\"white\"}},\"type\":\"table\"}],\"barpolar\":[{\"marker\":{\"line\":{\"color\":\"#E5ECF6\",\"width\":0.5},\"pattern\":{\"fillmode\":\"overlay\",\"size\":10,\"solidity\":0.2}},\"type\":\"barpolar\"}],\"pie\":[{\"automargin\":true,\"type\":\"pie\"}]},\"layout\":{\"autotypenumbers\":\"strict\",\"colorway\":[\"#636efa\",\"#EF553B\",\"#00cc96\",\"#ab63fa\",\"#FFA15A\",\"#19d3f3\",\"#FF6692\",\"#B6E880\",\"#FF97FF\",\"#FECB52\"],\"font\":{\"color\":\"#2a3f5f\"},\"hovermode\":\"closest\",\"hoverlabel\":{\"align\":\"left\"},\"paper_bgcolor\":\"white\",\"plot_bgcolor\":\"#E5ECF6\",\"polar\":{\"bgcolor\":\"#E5ECF6\",\"angularaxis\":{\"gridcolor\":\"white\",\"linecolor\":\"white\",\"ticks\":\"\"},\"radialaxis\":{\"gridcolor\":\"white\",\"linecolor\":\"white\",\"ticks\":\"\"}},\"ternary\":{\"bgcolor\":\"#E5ECF6\",\"aaxis\":{\"gridcolor\":\"white\",\"linecolor\":\"white\",\"ticks\":\"\"},\"baxis\":{\"gridcolor\":\"white\",\"linecolor\":\"white\",\"ticks\":\"\"},\"caxis\":{\"gridcolor\":\"white\",\"linecolor\":\"white\",\"ticks\":\"\"}},\"coloraxis\":{\"colorbar\":{\"outlinewidth\":0,\"ticks\":\"\"}},\"colorscale\":{\"sequential\":[[0.0,\"#0d0887\"],[0.1111111111111111,\"#46039f\"],[0.2222222222222222,\"#7201a8\"],[0.3333333333333333,\"#9c179e\"],[0.4444444444444444,\"#bd3786\"],[0.5555555555555556,\"#d8576b\"],[0.6666666666666666,\"#ed7953\"],[0.7777777777777778,\"#fb9f3a\"],[0.8888888888888888,\"#fdca26\"],[1.0,\"#f0f921\"]],\"sequentialminus\":[[0.0,\"#0d0887\"],[0.1111111111111111,\"#46039f\"],[0.2222222222222222,\"#7201a8\"],[0.3333333333333333,\"#9c179e\"],[0.4444444444444444,\"#bd3786\"],[0.5555555555555556,\"#d8576b\"],[0.6666666666666666,\"#ed7953\"],[0.7777777777777778,\"#fb9f3a\"],[0.8888888888888888,\"#fdca26\"],[1.0,\"#f0f921\"]],\"diverging\":[[0,\"#8e0152\"],[0.1,\"#c51b7d\"],[0.2,\"#de77ae\"],[0.3,\"#f1b6da\"],[0.4,\"#fde0ef\"],[0.5,\"#f7f7f7\"],[0.6,\"#e6f5d0\"],[0.7,\"#b8e186\"],[0.8,\"#7fbc41\"],[0.9,\"#4d9221\"],[1,\"#276419\"]]},\"xaxis\":{\"gridcolor\":\"white\",\"linecolor\":\"white\",\"ticks\":\"\",\"title\":{\"standoff\":15},\"zerolinecolor\":\"white\",\"automargin\":true,\"zerolinewidth\":2},\"yaxis\":{\"gridcolor\":\"white\",\"linecolor\":\"white\",\"ticks\":\"\",\"title\":{\"standoff\":15},\"zerolinecolor\":\"white\",\"automargin\":true,\"zerolinewidth\":2},\"scene\":{\"xaxis\":{\"backgroundcolor\":\"#E5ECF6\",\"gridcolor\":\"white\",\"linecolor\":\"white\",\"showbackground\":true,\"ticks\":\"\",\"zerolinecolor\":\"white\",\"gridwidth\":2},\"yaxis\":{\"backgroundcolor\":\"#E5ECF6\",\"gridcolor\":\"white\",\"linecolor\":\"white\",\"showbackground\":true,\"ticks\":\"\",\"zerolinecolor\":\"white\",\"gridwidth\":2},\"zaxis\":{\"backgroundcolor\":\"#E5ECF6\",\"gridcolor\":\"white\",\"linecolor\":\"white\",\"showbackground\":true,\"ticks\":\"\",\"zerolinecolor\":\"white\",\"gridwidth\":2}},\"shapedefaults\":{\"line\":{\"color\":\"#2a3f5f\"}},\"annotationdefaults\":{\"arrowcolor\":\"#2a3f5f\",\"arrowhead\":0,\"arrowwidth\":1},\"geo\":{\"bgcolor\":\"white\",\"landcolor\":\"#E5ECF6\",\"subunitcolor\":\"white\",\"showland\":true,\"showlakes\":true,\"lakecolor\":\"white\"},\"title\":{\"x\":0.05},\"mapbox\":{\"style\":\"light\"}}},\"xaxis\":{\"anchor\":\"y\",\"domain\":[0.0,1.0],\"title\":{\"text\":\"transaction_hour\"}},\"yaxis\":{\"anchor\":\"x\",\"domain\":[0.0,1.0],\"title\":{\"text\":\"transaction_count\"}},\"legend\":{\"tracegroupgap\":0},\"title\":{\"text\":\"Hourly Sales Transaction Amount\"},\"barmode\":\"relative\"},                        {\"responsive\": true}                    ).then(function(){\n",
              "                            \n",
              "var gd = document.getElementById('afbecd08-cc32-47f9-844f-f9bd7198adf4');\n",
              "var x = new MutationObserver(function (mutations, observer) {{\n",
              "        var display = window.getComputedStyle(gd).display;\n",
              "        if (!display || display === 'none') {{\n",
              "            console.log([gd, 'removed!']);\n",
              "            Plotly.purge(gd);\n",
              "            observer.disconnect();\n",
              "        }}\n",
              "}});\n",
              "\n",
              "// Listen for the removal of the full notebook cells\n",
              "var notebookContainer = gd.closest('#notebook-container');\n",
              "if (notebookContainer) {{\n",
              "    x.observe(notebookContainer, {childList: true});\n",
              "}}\n",
              "\n",
              "// Listen for the clearing of the current output cell\n",
              "var outputEl = gd.closest('.output');\n",
              "if (outputEl) {{\n",
              "    x.observe(outputEl, {childList: true});\n",
              "}}\n",
              "\n",
              "                        })                };                            </script>        </div>\n",
              "</body>\n",
              "</html>"
            ]
          },
          "metadata": {}
        }
      ]
    },
    {
      "cell_type": "code",
      "source": [
        "df_transaction_per_country = df.groupBy('country_name')\\\n",
        "                          .count().withColumnRenamed('count','transaction_count')\\\n",
        "                          .orderBy('transaction_count', ascending=False)\n",
        "df_transaction_per_country.show()"
      ],
      "metadata": {
        "colab": {
          "base_uri": "https://localhost:8080/"
        },
        "id": "ZvANoMS4tFXv",
        "outputId": "e148682e-b69b-4eb4-ef68-15e9d8477437"
      },
      "execution_count": 27,
      "outputs": [
        {
          "output_type": "stream",
          "name": "stdout",
          "text": [
            "+---------------+-----------------+\n",
            "|   country_name|transaction_count|\n",
            "+---------------+-----------------+\n",
            "| United Kingdom|           495478|\n",
            "|        Germany|             9495|\n",
            "|         France|             8557|\n",
            "|           EIRE|             8196|\n",
            "|          Spain|             2533|\n",
            "|    Netherlands|             2371|\n",
            "|        Belgium|             2069|\n",
            "|    Switzerland|             2002|\n",
            "|       Portugal|             1519|\n",
            "|      Australia|             1259|\n",
            "|         Norway|             1086|\n",
            "|          Italy|              803|\n",
            "|Channel Islands|              758|\n",
            "|        Finland|              695|\n",
            "|         Cyprus|              622|\n",
            "|         Sweden|              462|\n",
            "|    Unspecified|              446|\n",
            "|        Austria|              401|\n",
            "|        Denmark|              389|\n",
            "|          Japan|              358|\n",
            "+---------------+-----------------+\n",
            "only showing top 20 rows\n",
            "\n"
          ]
        }
      ]
    },
    {
      "cell_type": "code",
      "source": [
        "pandas_df_transaction_per_country = df_transaction_per_country.toPandas()\n",
        "pandas_df_transaction_per_country.loc[pandas_df_transaction_per_country['transaction_count']<2500, 'country_name'] = 'Others'\n",
        "fig_pie = px.pie(pandas_df_transaction_per_country, values='transaction_count', names='country_name')\n",
        "fig_pie.show()"
      ],
      "metadata": {
        "colab": {
          "base_uri": "https://localhost:8080/",
          "height": 542
        },
        "id": "ReAVku07tHmo",
        "outputId": "6626d2b8-5b5f-453a-a656-aa77eca84739"
      },
      "execution_count": 28,
      "outputs": [
        {
          "output_type": "display_data",
          "data": {
            "text/html": [
              "<html>\n",
              "<head><meta charset=\"utf-8\" /></head>\n",
              "<body>\n",
              "    <div>            <script src=\"https://cdnjs.cloudflare.com/ajax/libs/mathjax/2.7.5/MathJax.js?config=TeX-AMS-MML_SVG\"></script><script type=\"text/javascript\">if (window.MathJax && window.MathJax.Hub && window.MathJax.Hub.Config) {window.MathJax.Hub.Config({SVG: {font: \"STIX-Web\"}});}</script>                <script type=\"text/javascript\">window.PlotlyConfig = {MathJaxConfig: 'local'};</script>\n",
              "        <script charset=\"utf-8\" src=\"https://cdn.plot.ly/plotly-2.24.1.min.js\"></script>                <div id=\"c1fd4fb9-a530-4ba2-a969-a6560b2d6ac3\" class=\"plotly-graph-div\" style=\"height:525px; width:100%;\"></div>            <script type=\"text/javascript\">                                    window.PLOTLYENV=window.PLOTLYENV || {};                                    if (document.getElementById(\"c1fd4fb9-a530-4ba2-a969-a6560b2d6ac3\")) {                    Plotly.newPlot(                        \"c1fd4fb9-a530-4ba2-a969-a6560b2d6ac3\",                        [{\"domain\":{\"x\":[0.0,1.0],\"y\":[0.0,1.0]},\"hovertemplate\":\"country_name=%{label}\\u003cbr\\u003etransaction_count=%{value}\\u003cextra\\u003e\\u003c\\u002fextra\\u003e\",\"labels\":[\"United Kingdom\",\"Germany\",\"France\",\"EIRE\",\"Spain\",\"Others\",\"Others\",\"Others\",\"Others\",\"Others\",\"Others\",\"Others\",\"Others\",\"Others\",\"Others\",\"Others\",\"Others\",\"Others\",\"Others\",\"Others\",\"Others\",\"Others\",\"Others\",\"Others\",\"Others\",\"Others\",\"Others\",\"Others\",\"Others\",\"Others\",\"Others\",\"Others\",\"Others\",\"Others\",\"Others\",\"Others\",\"Others\",\"Others\"],\"legendgroup\":\"\",\"name\":\"\",\"showlegend\":true,\"values\":[495478,9495,8557,8196,2533,2371,2069,2002,1519,1259,1086,803,758,695,622,462,446,401,389,358,341,297,291,288,229,182,151,146,127,68,61,58,45,35,32,30,19,10],\"type\":\"pie\"}],                        {\"template\":{\"data\":{\"histogram2dcontour\":[{\"type\":\"histogram2dcontour\",\"colorbar\":{\"outlinewidth\":0,\"ticks\":\"\"},\"colorscale\":[[0.0,\"#0d0887\"],[0.1111111111111111,\"#46039f\"],[0.2222222222222222,\"#7201a8\"],[0.3333333333333333,\"#9c179e\"],[0.4444444444444444,\"#bd3786\"],[0.5555555555555556,\"#d8576b\"],[0.6666666666666666,\"#ed7953\"],[0.7777777777777778,\"#fb9f3a\"],[0.8888888888888888,\"#fdca26\"],[1.0,\"#f0f921\"]]}],\"choropleth\":[{\"type\":\"choropleth\",\"colorbar\":{\"outlinewidth\":0,\"ticks\":\"\"}}],\"histogram2d\":[{\"type\":\"histogram2d\",\"colorbar\":{\"outlinewidth\":0,\"ticks\":\"\"},\"colorscale\":[[0.0,\"#0d0887\"],[0.1111111111111111,\"#46039f\"],[0.2222222222222222,\"#7201a8\"],[0.3333333333333333,\"#9c179e\"],[0.4444444444444444,\"#bd3786\"],[0.5555555555555556,\"#d8576b\"],[0.6666666666666666,\"#ed7953\"],[0.7777777777777778,\"#fb9f3a\"],[0.8888888888888888,\"#fdca26\"],[1.0,\"#f0f921\"]]}],\"heatmap\":[{\"type\":\"heatmap\",\"colorbar\":{\"outlinewidth\":0,\"ticks\":\"\"},\"colorscale\":[[0.0,\"#0d0887\"],[0.1111111111111111,\"#46039f\"],[0.2222222222222222,\"#7201a8\"],[0.3333333333333333,\"#9c179e\"],[0.4444444444444444,\"#bd3786\"],[0.5555555555555556,\"#d8576b\"],[0.6666666666666666,\"#ed7953\"],[0.7777777777777778,\"#fb9f3a\"],[0.8888888888888888,\"#fdca26\"],[1.0,\"#f0f921\"]]}],\"heatmapgl\":[{\"type\":\"heatmapgl\",\"colorbar\":{\"outlinewidth\":0,\"ticks\":\"\"},\"colorscale\":[[0.0,\"#0d0887\"],[0.1111111111111111,\"#46039f\"],[0.2222222222222222,\"#7201a8\"],[0.3333333333333333,\"#9c179e\"],[0.4444444444444444,\"#bd3786\"],[0.5555555555555556,\"#d8576b\"],[0.6666666666666666,\"#ed7953\"],[0.7777777777777778,\"#fb9f3a\"],[0.8888888888888888,\"#fdca26\"],[1.0,\"#f0f921\"]]}],\"contourcarpet\":[{\"type\":\"contourcarpet\",\"colorbar\":{\"outlinewidth\":0,\"ticks\":\"\"}}],\"contour\":[{\"type\":\"contour\",\"colorbar\":{\"outlinewidth\":0,\"ticks\":\"\"},\"colorscale\":[[0.0,\"#0d0887\"],[0.1111111111111111,\"#46039f\"],[0.2222222222222222,\"#7201a8\"],[0.3333333333333333,\"#9c179e\"],[0.4444444444444444,\"#bd3786\"],[0.5555555555555556,\"#d8576b\"],[0.6666666666666666,\"#ed7953\"],[0.7777777777777778,\"#fb9f3a\"],[0.8888888888888888,\"#fdca26\"],[1.0,\"#f0f921\"]]}],\"surface\":[{\"type\":\"surface\",\"colorbar\":{\"outlinewidth\":0,\"ticks\":\"\"},\"colorscale\":[[0.0,\"#0d0887\"],[0.1111111111111111,\"#46039f\"],[0.2222222222222222,\"#7201a8\"],[0.3333333333333333,\"#9c179e\"],[0.4444444444444444,\"#bd3786\"],[0.5555555555555556,\"#d8576b\"],[0.6666666666666666,\"#ed7953\"],[0.7777777777777778,\"#fb9f3a\"],[0.8888888888888888,\"#fdca26\"],[1.0,\"#f0f921\"]]}],\"mesh3d\":[{\"type\":\"mesh3d\",\"colorbar\":{\"outlinewidth\":0,\"ticks\":\"\"}}],\"scatter\":[{\"fillpattern\":{\"fillmode\":\"overlay\",\"size\":10,\"solidity\":0.2},\"type\":\"scatter\"}],\"parcoords\":[{\"type\":\"parcoords\",\"line\":{\"colorbar\":{\"outlinewidth\":0,\"ticks\":\"\"}}}],\"scatterpolargl\":[{\"type\":\"scatterpolargl\",\"marker\":{\"colorbar\":{\"outlinewidth\":0,\"ticks\":\"\"}}}],\"bar\":[{\"error_x\":{\"color\":\"#2a3f5f\"},\"error_y\":{\"color\":\"#2a3f5f\"},\"marker\":{\"line\":{\"color\":\"#E5ECF6\",\"width\":0.5},\"pattern\":{\"fillmode\":\"overlay\",\"size\":10,\"solidity\":0.2}},\"type\":\"bar\"}],\"scattergeo\":[{\"type\":\"scattergeo\",\"marker\":{\"colorbar\":{\"outlinewidth\":0,\"ticks\":\"\"}}}],\"scatterpolar\":[{\"type\":\"scatterpolar\",\"marker\":{\"colorbar\":{\"outlinewidth\":0,\"ticks\":\"\"}}}],\"histogram\":[{\"marker\":{\"pattern\":{\"fillmode\":\"overlay\",\"size\":10,\"solidity\":0.2}},\"type\":\"histogram\"}],\"scattergl\":[{\"type\":\"scattergl\",\"marker\":{\"colorbar\":{\"outlinewidth\":0,\"ticks\":\"\"}}}],\"scatter3d\":[{\"type\":\"scatter3d\",\"line\":{\"colorbar\":{\"outlinewidth\":0,\"ticks\":\"\"}},\"marker\":{\"colorbar\":{\"outlinewidth\":0,\"ticks\":\"\"}}}],\"scattermapbox\":[{\"type\":\"scattermapbox\",\"marker\":{\"colorbar\":{\"outlinewidth\":0,\"ticks\":\"\"}}}],\"scatterternary\":[{\"type\":\"scatterternary\",\"marker\":{\"colorbar\":{\"outlinewidth\":0,\"ticks\":\"\"}}}],\"scattercarpet\":[{\"type\":\"scattercarpet\",\"marker\":{\"colorbar\":{\"outlinewidth\":0,\"ticks\":\"\"}}}],\"carpet\":[{\"aaxis\":{\"endlinecolor\":\"#2a3f5f\",\"gridcolor\":\"white\",\"linecolor\":\"white\",\"minorgridcolor\":\"white\",\"startlinecolor\":\"#2a3f5f\"},\"baxis\":{\"endlinecolor\":\"#2a3f5f\",\"gridcolor\":\"white\",\"linecolor\":\"white\",\"minorgridcolor\":\"white\",\"startlinecolor\":\"#2a3f5f\"},\"type\":\"carpet\"}],\"table\":[{\"cells\":{\"fill\":{\"color\":\"#EBF0F8\"},\"line\":{\"color\":\"white\"}},\"header\":{\"fill\":{\"color\":\"#C8D4E3\"},\"line\":{\"color\":\"white\"}},\"type\":\"table\"}],\"barpolar\":[{\"marker\":{\"line\":{\"color\":\"#E5ECF6\",\"width\":0.5},\"pattern\":{\"fillmode\":\"overlay\",\"size\":10,\"solidity\":0.2}},\"type\":\"barpolar\"}],\"pie\":[{\"automargin\":true,\"type\":\"pie\"}]},\"layout\":{\"autotypenumbers\":\"strict\",\"colorway\":[\"#636efa\",\"#EF553B\",\"#00cc96\",\"#ab63fa\",\"#FFA15A\",\"#19d3f3\",\"#FF6692\",\"#B6E880\",\"#FF97FF\",\"#FECB52\"],\"font\":{\"color\":\"#2a3f5f\"},\"hovermode\":\"closest\",\"hoverlabel\":{\"align\":\"left\"},\"paper_bgcolor\":\"white\",\"plot_bgcolor\":\"#E5ECF6\",\"polar\":{\"bgcolor\":\"#E5ECF6\",\"angularaxis\":{\"gridcolor\":\"white\",\"linecolor\":\"white\",\"ticks\":\"\"},\"radialaxis\":{\"gridcolor\":\"white\",\"linecolor\":\"white\",\"ticks\":\"\"}},\"ternary\":{\"bgcolor\":\"#E5ECF6\",\"aaxis\":{\"gridcolor\":\"white\",\"linecolor\":\"white\",\"ticks\":\"\"},\"baxis\":{\"gridcolor\":\"white\",\"linecolor\":\"white\",\"ticks\":\"\"},\"caxis\":{\"gridcolor\":\"white\",\"linecolor\":\"white\",\"ticks\":\"\"}},\"coloraxis\":{\"colorbar\":{\"outlinewidth\":0,\"ticks\":\"\"}},\"colorscale\":{\"sequential\":[[0.0,\"#0d0887\"],[0.1111111111111111,\"#46039f\"],[0.2222222222222222,\"#7201a8\"],[0.3333333333333333,\"#9c179e\"],[0.4444444444444444,\"#bd3786\"],[0.5555555555555556,\"#d8576b\"],[0.6666666666666666,\"#ed7953\"],[0.7777777777777778,\"#fb9f3a\"],[0.8888888888888888,\"#fdca26\"],[1.0,\"#f0f921\"]],\"sequentialminus\":[[0.0,\"#0d0887\"],[0.1111111111111111,\"#46039f\"],[0.2222222222222222,\"#7201a8\"],[0.3333333333333333,\"#9c179e\"],[0.4444444444444444,\"#bd3786\"],[0.5555555555555556,\"#d8576b\"],[0.6666666666666666,\"#ed7953\"],[0.7777777777777778,\"#fb9f3a\"],[0.8888888888888888,\"#fdca26\"],[1.0,\"#f0f921\"]],\"diverging\":[[0,\"#8e0152\"],[0.1,\"#c51b7d\"],[0.2,\"#de77ae\"],[0.3,\"#f1b6da\"],[0.4,\"#fde0ef\"],[0.5,\"#f7f7f7\"],[0.6,\"#e6f5d0\"],[0.7,\"#b8e186\"],[0.8,\"#7fbc41\"],[0.9,\"#4d9221\"],[1,\"#276419\"]]},\"xaxis\":{\"gridcolor\":\"white\",\"linecolor\":\"white\",\"ticks\":\"\",\"title\":{\"standoff\":15},\"zerolinecolor\":\"white\",\"automargin\":true,\"zerolinewidth\":2},\"yaxis\":{\"gridcolor\":\"white\",\"linecolor\":\"white\",\"ticks\":\"\",\"title\":{\"standoff\":15},\"zerolinecolor\":\"white\",\"automargin\":true,\"zerolinewidth\":2},\"scene\":{\"xaxis\":{\"backgroundcolor\":\"#E5ECF6\",\"gridcolor\":\"white\",\"linecolor\":\"white\",\"showbackground\":true,\"ticks\":\"\",\"zerolinecolor\":\"white\",\"gridwidth\":2},\"yaxis\":{\"backgroundcolor\":\"#E5ECF6\",\"gridcolor\":\"white\",\"linecolor\":\"white\",\"showbackground\":true,\"ticks\":\"\",\"zerolinecolor\":\"white\",\"gridwidth\":2},\"zaxis\":{\"backgroundcolor\":\"#E5ECF6\",\"gridcolor\":\"white\",\"linecolor\":\"white\",\"showbackground\":true,\"ticks\":\"\",\"zerolinecolor\":\"white\",\"gridwidth\":2}},\"shapedefaults\":{\"line\":{\"color\":\"#2a3f5f\"}},\"annotationdefaults\":{\"arrowcolor\":\"#2a3f5f\",\"arrowhead\":0,\"arrowwidth\":1},\"geo\":{\"bgcolor\":\"white\",\"landcolor\":\"#E5ECF6\",\"subunitcolor\":\"white\",\"showland\":true,\"showlakes\":true,\"lakecolor\":\"white\"},\"title\":{\"x\":0.05},\"mapbox\":{\"style\":\"light\"}}},\"legend\":{\"tracegroupgap\":0},\"margin\":{\"t\":60}},                        {\"responsive\": true}                    ).then(function(){\n",
              "                            \n",
              "var gd = document.getElementById('c1fd4fb9-a530-4ba2-a969-a6560b2d6ac3');\n",
              "var x = new MutationObserver(function (mutations, observer) {{\n",
              "        var display = window.getComputedStyle(gd).display;\n",
              "        if (!display || display === 'none') {{\n",
              "            console.log([gd, 'removed!']);\n",
              "            Plotly.purge(gd);\n",
              "            observer.disconnect();\n",
              "        }}\n",
              "}});\n",
              "\n",
              "// Listen for the removal of the full notebook cells\n",
              "var notebookContainer = gd.closest('#notebook-container');\n",
              "if (notebookContainer) {{\n",
              "    x.observe(notebookContainer, {childList: true});\n",
              "}}\n",
              "\n",
              "// Listen for the clearing of the current output cell\n",
              "var outputEl = gd.closest('.output');\n",
              "if (outputEl) {{\n",
              "    x.observe(outputEl, {childList: true});\n",
              "}}\n",
              "\n",
              "                        })                };                            </script>        </div>\n",
              "</body>\n",
              "</html>"
            ]
          },
          "metadata": {}
        }
      ]
    },
    {
      "cell_type": "markdown",
      "source": [
        "# USING KALEIDO"
      ],
      "metadata": {
        "id": "bI8edT0WtKdS"
      }
    },
    {
      "cell_type": "code",
      "source": [
        "!pip install -U kaleido"
      ],
      "metadata": {
        "colab": {
          "base_uri": "https://localhost:8080/"
        },
        "id": "aSDW0fdTtOEu",
        "outputId": "d3625252-51a7-4d0f-e752-30b0640845d6"
      },
      "execution_count": 29,
      "outputs": [
        {
          "output_type": "stream",
          "name": "stdout",
          "text": [
            "Requirement already satisfied: kaleido in /usr/local/lib/python3.10/dist-packages (0.2.1)\n"
          ]
        }
      ]
    },
    {
      "cell_type": "code",
      "source": [
        "fig_pie.write_image('country.png')"
      ],
      "metadata": {
        "id": "Wbw3AHjwtVp3"
      },
      "execution_count": 30,
      "outputs": []
    }
  ]
}